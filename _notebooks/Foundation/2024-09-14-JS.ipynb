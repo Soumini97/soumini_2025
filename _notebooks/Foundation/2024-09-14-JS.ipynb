{
 "cells": [
  {
   "cell_type": "markdown",
   "metadata": {},
   "source": [
    "---\n",
    "layout: post\n",
    "title: JavaScript code cell\n",
    "description: idk\n",
    "permalink: /javascriptcell/\n",
    "---\n"
   ]
  },
  {
   "cell_type": "code",
   "execution_count": 2,
   "metadata": {},
   "outputs": [
    {
     "name": "stderr",
     "output_type": "stream",
     "text": [
      "/tmp/ipykernel_68383/1227529270.py:1: DeprecationWarning: Importing display from IPython.core.display is deprecated since IPython 7.14, please import from IPython display\n",
      "  from IPython.core.display import display, HTML\n"
     ]
    },
    {
     "data": {
      "text/html": [
       "\n",
       "<!DOCTYPE html>\n",
       "<html>\n",
       "<head>\n",
       "    <title>Greeting Function</title>\n",
       "</head>\n",
       "<body>\n",
       "    <h1>Welcome to My Greeting App</h1>\n",
       "    <input type=\"text\" id=\"name\" placeholder=\"Enter your name\">\n",
       "    <button onclick=\"greet()\">Greet</button>\n",
       "    <p id=\"greeting\"></p>\n",
       "\n",
       "    <script>\n",
       "        function greet() {\n",
       "            var name = document.getElementById('name').value;\n",
       "            var greetingMessage = 'Hello, ' + name + '! Welcome!';\n",
       "            document.getElementById('greeting').innerText = greetingMessage;\n",
       "        }\n",
       "    </script>\n",
       "</body>\n",
       "</html>\n"
      ],
      "text/plain": [
       "<IPython.core.display.HTML object>"
      ]
     },
     "metadata": {},
     "output_type": "display_data"
    }
   ],
   "source": [
    "from IPython.core.display import display, HTML\n",
    "html_code = \"\"\"\n",
    "<!DOCTYPE html>\n",
    "<html>\n",
    "<head>\n",
    "    <title>Greeting Function</title>\n",
    "</head>\n",
    "<body>\n",
    "    <h1>Welcome to My Greeting App</h1>\n",
    "    <input type=\"text\" id=\"name\" placeholder=\"Enter your name\">\n",
    "    <button onclick=\"greet()\">Greet</button>\n",
    "    <p id=\"greeting\"></p>\n",
    "\n",
    "    <script>\n",
    "        function greet() {\n",
    "            var name = document.getElementById('name').value;\n",
    "            var greetingMessage = 'Hello, ' + name + '! Welcome!';\n",
    "            document.getElementById('greeting').innerText = greetingMessage;\n",
    "        }\n",
    "    </script>\n",
    "</body>\n",
    "</html>\n",
    "\"\"\"\n",
    "\n",
    "display(HTML(html_code))\n"
   ]
  }
 ],
 "metadata": {
  "kernelspec": {
   "display_name": "venv",
   "language": "python",
   "name": "python3"
  },
  "language_info": {
   "codemirror_mode": {
    "name": "ipython",
    "version": 3
   },
   "file_extension": ".py",
   "mimetype": "text/x-python",
   "name": "python",
   "nbconvert_exporter": "python",
   "pygments_lexer": "ipython3",
   "version": "3.12.3"
  }
 },
 "nbformat": 4,
 "nbformat_minor": 2
}
