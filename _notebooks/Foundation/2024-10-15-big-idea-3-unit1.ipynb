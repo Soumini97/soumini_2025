{
 "cells": [
  {
   "cell_type": "markdown",
   "metadata": {},
   "source": [
    "--- \n",
    "layout: post\n",
    "title: Big Idea 3 Unit 1\n",
    "description: Big Idea 3 Unit 1 Work\n",
    "permalink: /big-idea-3-unit-1/\n",
    "---"
   ]
  },
  {
   "cell_type": "markdown",
   "metadata": {},
   "source": [
    "# Summary\n",
    "\n",
    "This lesson is about variables, naming conventions, and data types in both python and javascript. Some common data types are strings, integers, floats, booleans, arrays, objects, and lists.\n",
    "\n",
    "- Strings: words in quotation marks\n",
    "- Integers: Numbers without decimals \n",
    "- Floats: Numbers with decimals\n",
    "- Booleans: True/False Values\n",
    "- Arrays: Fixed collections of elements\n",
    "- Object: Similar to array but has key-value pairs\n",
    "\n",
    "Scroll to find homework and examples!"
   ]
  },
  {
   "cell_type": "code",
   "execution_count": null,
   "metadata": {},
   "outputs": [],
   "source": [
    "# Python examples\n",
    "# Popcorn Hack 1\n",
    "subject = \"Math\" # String Variable\n",
    "birthday = \"August 38th\" # String Variable\n",
    "favoriteNumber = 7 # Integer Variable\n",
    "\n",
    "# Popcorn Hack 2\n",
    "cold = False\n",
    "busy = True \n",
    "print(cold) # Prints False\n",
    "print(busy) # Prints True\n",
    "\n",
    "# Popcorn Hack 3\n",
    "my_stuff = {\n",
    "    'name': \"Soumini\",\n",
    "    'age': 14,\n",
    "    'subjects': ['Math', 'Chemistry', 'CSP', 'English', 'History'],\n",
    "}\n",
    "print(my_stuff) # Prints {'name': 'Soumini', 'age': 14, 'subjects': ['Math', 'Chemistry', 'CSP', 'English', 'History']}\n",
    "\n",
    "# Homework\n",
    "name = \"Soumini\" # String Variable\n",
    "age = 14 # Integer Variable\n",
    "favorite_number = 7.0 # Float Variable\n",
    "\n",
    "favorite_food = \"none\" # snake_case\n",
    "FavoriteHobby = \"reading\" # PascalCase\n",
    "favoriteColor = \"all colors but mostly purple\" # camelCase\n",
    "\n",
    "myList = [name, age, favorite_number] # A list\n",
    "\n",
    "me = {\n",
    "    'name': name, # key for name\n",
    "    'age' : age, # key for age\n",
    "    'favorite_number': favorite_number, # key for favorite number\n",
    "}"
   ]
  },
  {
   "cell_type": "code",
   "execution_count": null,
   "metadata": {
    "vscode": {
     "languageId": "javascript"
    }
   },
   "outputs": [],
   "source": [
    "// Javascript examples: \n",
    "//Popcorn Hack 1\n",
    "let fav_subject = \"math\";\n",
    "let hobby = \"reading\";\n",
    "let number = 7;\n",
    "\n",
    "// Popcorn Hack 2\n",
    "var event = {\n",
    "    date: \"September 36th\",\n",
    "    time: \"4 pm\",\n",
    "    thing: \"Birthday Party\",\n",
    "    location: \"Saturn the Planet\",\n",
    "    participants: 30,\n",
    "};\n",
    "console.log(event)\n",
    "\n",
    "// Popcorn Hack 3\n",
    "let first = 61409;\n",
    "let second = 90709;\n",
    "let one = \"I don't like \";\n",
    "let two = \"bell peppers\";\n",
    "console.log(first + second)\n",
    "console.log(one + two)\n",
    "\n",
    "// Homework\n",
    "let name = \"Soumini\"\n",
    "let age = 14\n",
    "let favorite_number = 7.0\n",
    "\n",
    "let favorite_food = \"none\"\n",
    "let FavoriteHobby = \"reading\"\n",
    "let favoriteColor = \"all colors but mostly purple\"\n",
    "\n",
    "let myList = ['Soumini', 14, 7]\n",
    "\n",
    "let me = {\n",
    "    'name': 'Soumini',\n",
    "    'age': age,\n",
    "    'favorite_number': favorite_number\n",
    "};\n"
   ]
  }
 ],
 "metadata": {
  "language_info": {
   "name": "python"
  }
 },
 "nbformat": 4,
 "nbformat_minor": 2
}
