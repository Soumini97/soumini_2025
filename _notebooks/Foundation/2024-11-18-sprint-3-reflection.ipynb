{
 "cells": [
  {
   "cell_type": "markdown",
   "metadata": {},
   "source": [
    "--- \n",
    "layout: post\n",
    "title: Sprint 3 Objectives and Reflection\n",
    "description: Sprint 3 Reflection\n",
    "permalink: /sprint-3-reflection/\n",
    "---"
   ]
  },
  {
   "cell_type": "markdown",
   "metadata": {},
   "source": [
    "# Project Overview:\n",
    "Our project during this Sprint was to build an interactive social media webpage and use backend applications to draw data that can be used in our social media webpage. Our webpage was based off of book reviews, in which a certain number of popular books can be discussed by users. \n",
    "\n",
    "Key features: Like function, rate function, comment and reply functions, as well as post function\n",
    "\n",
    "\n",
    "# Collaboration Evidences\n",
    "- We split work into frontend and backend \n",
    "- We also used an incremental process, in which we started with the generalized aspects and then narrowed it  down. We began by making a book card and then testing at, and then incrementally adding all of our other features onto that card, testing each one as we went. At the end, we changed color and styling. \n",
    "- Prototype: We used pinterest images to format a general look and develop a UI for our webpage in order to make it visually appealing and interactive. [Link to Vision Board](https://docs.google.com/document/d/12dHZLFPFWUvqTygW9zjSbPNYhu9FYtQPREWPRlYnnMI/edit?usp=sharing)\n",
    "- We organized our code into frontend repositories and backend repositories. Our frontend repositories were split into pages, with one page being the main book review page and the second containing the post form. The code for these pages was organized into HTML and Javascript. Our backend repository was split into groups, channels, and sections, with code in Python. \n",
    "- Feedback: Improving the interactivity of the website and making it more visually appealing. \n",
    "\n",
    "# Program Function and Purpose\n",
    "- Our program displays a new book everytime the page is refreshed. Users can provide their personal experience regarding the book by rating the book out of five stars, liking the book, commenting on the book, and replying to others's comments. They can post about new books they've read in the post form, by selecting the book reviews group and choosing either fiction or nonfiction channels. \n",
    "- Key user interactions: Commenting and liking on each other's posts and posting things in certain channels. The input is the user reply and the output is the post count and comment sections\n",
    "\n",
    "\n",
    "# Summary \n",
    "I learned a lot in this sprint, including how to build a visually appealing user interface, how to test backend endpoints using postman, how to change data in databases, and how to use Javascript to style data in databases, and how to edit data in backend to represent our needs. \n",
    "\n",
    "# Greatest Accomplishment\n",
    "Our greatest accomplishment during this sprint was to be able to fine tune our page to make it look exactly like the vision. Everything works better than expected, and it's like a version of Goodreads but more interactive and personal. "
   ]
  }
 ],
 "metadata": {
  "language_info": {
   "name": "python"
  }
 },
 "nbformat": 4,
 "nbformat_minor": 2
}
