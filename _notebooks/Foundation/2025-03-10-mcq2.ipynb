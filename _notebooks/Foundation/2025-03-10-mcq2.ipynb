{
 "cells": [
  {
   "cell_type": "markdown",
   "metadata": {
    "vscode": {
     "languageId": "plaintext"
    }
   },
   "source": [
    "---\n",
    "layout: page\n",
    "title: Trimester 2 MCQ\n",
    "permalink: /mcq2/\n",
    "---"
   ]
  },
  {
   "cell_type": "markdown",
   "metadata": {},
   "source": [
    "## Collegeboard MCQ Analysis: \n",
    "Between my last MCQ and my current MCQ, I was able to notice a significant improvement in my scores. In trimester 1, my MCQ scores demonstrate a score of 73%, while my Trimester 2 MCQ scores landed at 94%. Personally, I believe this is a huge improvement and really demonstrates my growth over the course of this trimester. \n",
    "\n",
    "1) My Strenths: Answering questions about code logic and program design and development, identifying and correcting errors, binary numbers, extracting information from data, mathematical expressions, all of the Big Idea 3 topics, and calling and developing procedures. \n",
    "\n",
    "2) My Weaknesses: Data compression, developing algorithms, the internet, and data abstraction. I also had difficulty with the timing. On average, most of my questions took around 30 seconds to 45 seconds to answer, however I did find myself taking up to five minutes for one or two questions, which can be an issue. \n",
    "<img src=\"{{site.baseurl}}/images/CBMCQ2020.png\" alt=\"MBMCQ\">\n",
    "\n",
    "#### Topics: \n",
    "<img src=\"{{site.baseurl}}/images/topics.png\" alt=\"topics\">\n",
    "\n",
    "#### Missed Questions: \n",
    "#### Question 23\n",
    "<img src=\"{{site.baseurl}}/images/23.png\" alt=\"23\">\n",
    "My answer: B - This is an incorrect answer option. This expression would be equivalent to an algorithm that sets available to true whenever weekday is true and miles is at least 20. The algorithm in the flowchart requires both conditions to be true in order to set available to true.\n",
    "\n",
    "Correct answer: D - The flowchart sets available to true whenever weekday is true and miles is less than 20, and sets available to false otherwise. This code statement provides the same functionality.\n",
    "\n",
    "\n",
    "#### Question 25\n",
    "<img src=\"{{site.baseurl}}/images/25.png\" alt=\"25\">\n",
    "My answer: D - Incorrect. Statement I is false. The Internet is not controlled from a central device.\n",
    "\n",
    "Correct answer: C - Correct. Statement I is false. The Internet is not controlled from a central device. Statements II and III are true. The Internet uses redundant routing to support fault tolerance. The Internet uses protocols so that data is transmitted in a standard format.\n",
    "\n",
    "#### Question 29\n",
    "<img src=\"{{site.baseurl}}/images/29.png\" alt=\"29\">\n",
    "My answer: D - Incorrect. This situation does not make use of any compression.\n",
    "<br>\n",
    "Correct Answer: A - Lossless compression is a technique that allows for complete reconstruction of the original data.\n",
    "\n",
    "#### Question 67\n",
    "<img src=\"{{site.baseurl}}/images/67.png\" alt=\"67\">\n",
    "My incorrect answer: D - For this code segment, count is initialized to 0. Since \"spruce\" does not appear in the list, the procedure returns the intended result 0.\n",
    "<br>\n",
    "Correct Answer: B - For this code segment, count is increased to 1 the first time \"maple\" is encountered in the list. However, count is reset to 0 when the code segment moves to the next list element. This causes the procedure to return 0 instead of the intended result 1."
   ]
  },
  {
   "cell_type": "markdown",
   "metadata": {},
   "source": []
  },
  {
   "cell_type": "markdown",
   "metadata": {},
   "source": []
  }
 ],
 "metadata": {
  "language_info": {
   "name": "python"
  }
 },
 "nbformat": 4,
 "nbformat_minor": 2
}
