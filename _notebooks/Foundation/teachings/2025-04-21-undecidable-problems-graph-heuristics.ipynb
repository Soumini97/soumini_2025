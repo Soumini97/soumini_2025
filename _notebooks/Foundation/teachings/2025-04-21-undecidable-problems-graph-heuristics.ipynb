{
 "cells": [
  {
   "cell_type": "markdown",
   "metadata": {},
   "source": [
    "---\n",
    "layout: page\n",
    "title: Undecideable Problems and Graphs and Heuristics \n",
    "permalink: /undecideable-graphs-heuristics/\n",
    "---"
   ]
  },
  {
   "cell_type": "markdown",
   "metadata": {},
   "source": [
    "# Undecidable Problems\n",
    "A problem for which no algorithm can be constructed "
   ]
  },
  {
   "cell_type": "markdown",
   "metadata": {},
   "source": [
    "# Halting Problem\n",
    "Is it possible to write a program that determines whether another algorithm halts or not?\n",
    "Machine H: Determines whether a program halts or not\n",
    "Machine D: Does the opposite of what H says.\n",
    "If H is fed D's program, and H says D will halt, then D will do the opposite, contradicting H."
   ]
  },
  {
   "cell_type": "markdown",
   "metadata": {},
   "source": [
    "# Popcorn Hack 1\n",
    "False"
   ]
  },
  {
   "cell_type": "markdown",
   "metadata": {},
   "source": [
    "# Popcorn Hack 2\n",
    "True"
   ]
  },
  {
   "cell_type": "markdown",
   "metadata": {},
   "source": [
    "# Decideable Problem: \n",
    "Will always have an algorithm that provides a correct solution"
   ]
  },
  {
   "cell_type": "markdown",
   "metadata": {},
   "source": [
    "# Graphs and Heuristics\n",
    "1) A graph is a data structure used to represent relationships between objects. A graph consists of nodes and edges. \n",
    "    - Undirected graphs: Edges are bidirectional\n",
    "    - Unweighed graphsL All adges are considered equal\n",
    "    - Directed graphs: edges have direction\n",
    "    - Seighted graphs: edges have values\n",
    "\n",
    "    "
   ]
  },
  {
   "cell_type": "markdown",
   "metadata": {},
   "source": [
    "# Popcorn Hack 1: \n",
    "False"
   ]
  },
  {
   "cell_type": "markdown",
   "metadata": {},
   "source": [
    "# Heuristic: \n",
    "A problem solving approach that simplifies the process by using rules of thumb\n",
    "\n",
    "- Ex: \n",
    "    Greedy algorithmsL always uses the best immediate option\n",
    "    A* SearchL Finds the quickest path from one point to another"
   ]
  },
  {
   "cell_type": "markdown",
   "metadata": {},
   "source": [
    "# Popcorn Hack 2: \n",
    "True. Provide a faster route but accuracy can be compromised"
   ]
  },
  {
   "cell_type": "markdown",
   "metadata": {},
   "source": [
    "Travelling salesman problem"
   ]
  },
  {
   "cell_type": "markdown",
   "metadata": {},
   "source": [
    "# Popcorn Hack 3\n",
    "True. "
   ]
  }
 ],
 "metadata": {
  "kernelspec": {
   "display_name": "venv",
   "language": "python",
   "name": "python3"
  },
  "language_info": {
   "codemirror_mode": {
    "name": "ipython",
    "version": 3
   },
   "file_extension": ".py",
   "mimetype": "text/x-python",
   "name": "python",
   "nbconvert_exporter": "python",
   "pygments_lexer": "ipython3",
   "version": "3.12.3"
  }
 },
 "nbformat": 4,
 "nbformat_minor": 2
}
