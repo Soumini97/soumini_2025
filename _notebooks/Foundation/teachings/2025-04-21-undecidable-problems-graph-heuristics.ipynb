{
 "cells": [
  {
   "cell_type": "markdown",
   "metadata": {},
   "source": [
    "---\n",
    "layout: page\n",
    "title: Undecideable Problems and Graphs and Heuristics \n",
    "permalink: /upgh/\n",
    "---"
   ]
  },
  {
   "cell_type": "markdown",
   "metadata": {},
   "source": [
    "# Undecidable Problems\n",
    "A problem for which no algorithm can be constructed "
   ]
  },
  {
   "cell_type": "markdown",
   "metadata": {},
   "source": [
    "# Halting Problem\n",
    "Is it possible to write a program that determines whether another algorithm halts or not?\n",
    "Machine H: Determines whether a program halts or not\n",
    "Machine D: Does the opposite of what H says.\n",
    "If H is fed D's program, and H says D will halt, then D will do the opposite, contradicting H."
   ]
  },
  {
   "cell_type": "markdown",
   "metadata": {},
   "source": [
    "## Popcorn Hack 1\n",
    "False"
   ]
  },
  {
   "cell_type": "markdown",
   "metadata": {},
   "source": [
    "## Popcorn Hack 2\n",
    "True"
   ]
  },
  {
   "cell_type": "markdown",
   "metadata": {},
   "source": [
    "## Popcorn Hack 3\n",
    "D"
   ]
  },
  {
   "cell_type": "markdown",
   "metadata": {},
   "source": [
    "## Homework: \n",
    "**Investigate and describe how modern operating systems and browsers handle infinite loops or excessively long-running scripts. What mechanisms are in place to detect and mitigate such issues? Provide real-world examples of these mechanisms in action, such as specific error messages, timeouts, or automated recovery processes.**\n",
    "\n",
    "Modern operating systems and browsers use safety checks to stop infinite loops or long-running scripts from crashing the system. Browsers like Chrome and Firefox have script timeout warnings that stop a web page if a script runs too long. For example, I might see an error like “A script on this page may be busy or may have stopped responding.” Operating systems can also step in by letting users end unresponsive programs using tools like Task Manager for Windows or Force Quit for Mac. These systems help keep the device running smoothly and prevent it from freezing.\n"
   ]
  },
  {
   "cell_type": "markdown",
   "metadata": {},
   "source": [
    "# Graphs and Heuristics\n",
    "1) A graph is a data structure used to represent relationships between objects. A graph consists of nodes and edges. \n",
    "    - Undirected graphs: Edges are bidirectional\n",
    "    - Unweighed graphsL All adges are considered equal\n",
    "    - Directed graphs: edges have direction\n",
    "    - Weighted graphs: edges have values\n",
    "\n",
    "    "
   ]
  },
  {
   "cell_type": "markdown",
   "metadata": {},
   "source": [
    "# Popcorn Hack 1: \n",
    "False"
   ]
  },
  {
   "cell_type": "markdown",
   "metadata": {},
   "source": [
    "# Heuristic: \n",
    "A problem solving approach that simplifies the process by using rules of thumb<br>\n",
    "\n",
    "- Ex: \n",
    "    Greedy algorithmsL always uses the best immediate option<br>\n",
    "    A* SearchL Finds the quickest path from one point to another"
   ]
  },
  {
   "cell_type": "markdown",
   "metadata": {},
   "source": [
    "# Popcorn Hack 2: \n",
    "True. Provide a faster route but accuracy can be compromised"
   ]
  },
  {
   "cell_type": "markdown",
   "metadata": {},
   "source": [
    "### Travelling salesman problem\n",
    "Finds the shortest route for a trip to n number of destinations. "
   ]
  },
  {
   "cell_type": "markdown",
   "metadata": {},
   "source": [
    "# Popcorn Hack 3\n",
    "True. "
   ]
  },
  {
   "cell_type": "markdown",
   "metadata": {},
   "source": [
    "## Homework:\n",
    "Explore the concept of “Social Network Analysis” and explain how graphs are used in analyzing social media platforms. Specifically, focus on: How are users (nodes) and relationships (edges) represented in social networks? Provide one example of a real-world social media platform where graph theory plays a crucial role.\n",
    "\n",
    "Social Network Analysis is the study of how people or things are connected and how information flows between them. In this type of analysis, users are shown as nodes, and the relationships between them, like friendships or followers—are shown as edges. These graphs help us understand who is most connected, who spreads information fastest, or how communities form. A real-world example is Twitter, where users are nodes, and the \"follows\" relationship is an edge. This helps analyze trends, find influencers, and study how tweets go viral. Graph theory makes it easier to see patterns in massive networks."
   ]
  }
 ],
 "metadata": {
  "kernelspec": {
   "display_name": "venv",
   "language": "python",
   "name": "python3"
  },
  "language_info": {
   "codemirror_mode": {
    "name": "ipython",
    "version": 3
   },
   "file_extension": ".py",
   "mimetype": "text/x-python",
   "name": "python",
   "nbconvert_exporter": "python",
   "pygments_lexer": "ipython3",
   "version": "3.12.3"
  }
 },
 "nbformat": 4,
 "nbformat_minor": 2
}
