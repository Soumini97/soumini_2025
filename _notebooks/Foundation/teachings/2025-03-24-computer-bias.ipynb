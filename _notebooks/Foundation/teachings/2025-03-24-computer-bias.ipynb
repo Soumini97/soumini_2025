{
 "cells": [
  {
   "cell_type": "markdown",
   "metadata": {},
   "source": [
    "---\n",
    "layout: page\n",
    "title: Computing Bias\n",
    "permalink: /computing-bias/\n",
    "---"
   ]
  },
  {
   "cell_type": "markdown",
   "metadata": {},
   "source": [
    "# Popcorn Hack 1: Example of Bias in Software\n",
    "\n",
    "Facial recognition systems can have unintentional bias if the data set is skewed to use one ethnicity to train the models. HP computers can very easily recognize white people but black people are not seen. \n"
   ]
  },
  {
   "cell_type": "markdown",
   "metadata": {},
   "source": [
    "# Popcorn Hack 2: \n",
    "One technology that didn't work well for me is Amazon. Sometimes if I need a dress for a last minute occasion, I tend to shop online because I don't have time to go to an actual store. Most of the time, I'm given reccommendations for dresses that don't fit my comfort level or cultural expectations, and many of them I consider have too low necklines or too high hemlines. They're tailored towards the general-dress wearing population and I'm not happy with the reccommendations I'm getting since it's super hard to find something that I like. It's not just a problem with Amazon, but most other shopping sites as well. Eventually, I end up not getting a dress, which personally, I feel is unfair. "
   ]
  },
  {
   "cell_type": "markdown",
   "metadata": {},
   "source": [
    "# Popcorn Hack 3\n",
    "\n",
    "There's a possibility of the tracking only counting calories for traditionally \"fit\" people that fall within the healthy weight range. Often times, I've heard that people on either side of the extremes for weight aren't properly represented in fitness tracking technology. Standard fitness technologies are tailored towards the majority of the population, but fail to represent the minorities, like people with disabilities or older people. It's important to take more data from as many subjects as possible to reduce the likelihood of bias in the system. To ensure that the app is fair and inclusive, we could implement a survery that takes more data from the users in order to tailor the app towards the user and not the general population. The survey could take data such as age, weight, physical disabilities, respiratory conditions/cardiovascular conditions, and more in order to better represent the fitness goals of all users and not just the majorities. "
   ]
  },
  {
   "cell_type": "markdown",
   "metadata": {},
   "source": []
  },
  {
   "cell_type": "markdown",
   "metadata": {},
   "source": [
    "# Homework Hack 1: \n",
    "\n",
    "**Tool**: Spotify<br>\n",
    "**Potential Bias**: It usually reccommends popular artists that are listened to by the majority of the population yet don't cater to the wishes of the people that prefer listening to smaller, less popular artists.<br>\n",
    "**Potential Cause of Bias**: The algorithm learns from what most people listen to. Since it focuses on popular songs, it may miss out on other kinds of music. It’s also possible that the people who built the system didn’t test it with all types of users.<br>\n",
    "**Solution**: Spotify could add a button that helps users find music from different genres, languages, or less-known artists.<br>"
   ]
  }
 ],
 "metadata": {
  "language_info": {
   "name": "python"
  }
 },
 "nbformat": 4,
 "nbformat_minor": 2
}
