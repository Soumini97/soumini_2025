{
 "cells": [
  {
   "cell_type": "markdown",
   "id": "99628538",
   "metadata": {},
   "source": [
    "---\n",
    "layout: page\n",
    "title: Base 64, Images, Color Coding\n",
    "permalink: /base64-color/\n",
    "---"
   ]
  },
  {
   "cell_type": "markdown",
   "id": "909cc57b",
   "metadata": {},
   "source": [
    "## Popcorn Hack Base 64\n",
    "<br>\n",
    "One downside of Base64 is that it makes the data bigger. This extra size can slow down storage and network transfers, especially when dealing with large files."
   ]
  },
  {
   "cell_type": "markdown",
   "id": "5d32e672",
   "metadata": {},
   "source": [
    "## Practice MC\n",
    "B, Base64 encoding increases the size of Data"
   ]
  },
  {
   "cell_type": "markdown",
   "id": "12b80565",
   "metadata": {},
   "source": [
    "## Popcorn Hack Digital Imaging \n",
    "<br>\n",
    "PNG format because it supports transparent backgrounds and keeps images sharp without losing quality on any screen."
   ]
  },
  {
   "cell_type": "markdown",
   "id": "d23b1c22",
   "metadata": {},
   "source": [
    "## Practice MC\n",
    "B, PNG because it supports transparency without losing image quality"
   ]
  },
  {
   "cell_type": "markdown",
   "id": "2afc7b14",
   "metadata": {},
   "source": [
    "## Homework Hack\n",
    "\n",
    "1) What is a hex color code? A hex color code is a way to show colors on a screen using six numbers or letters. Based on the rgb system, where the first two characters are for red, next two are green, and last two blue. One example is the color Cherry Blossom Pink, for which the hex code is: #FBB7C0. I used this color in my CPT project for book journals for the background of each book card. <br>\n",
    "2) What is Base64? Base64 is a way to turn an image into a long text string so it can be sent or stored easily in web pages. It’s mostly used for small images because it makes the file bigger. We used Base64 in our project last trimester to display book icons for the aesthetic of our site. <br>\n",
    "3) Why might you use Base64 instead of a regular image file? It's better to use Base64 instead of a regular image file to keep everything in one place, like inside my HTML or CSS, so that I don’t need extra image files. This can make small images load faster and avoid broken or faulty links that won't display an image. I could use Base64 to replace one of the cover url links in my friend's book freature because it's broken and doesn't properly show the cover image. <br><br>\n",
    "<img src=\"{{site.baseurl}}/images/duck.png\" alt=\"duck\"><br>\n",
    "The image is stored as a file, duck.png, in the images folder of my site. The code tells the browser to locate this file on the server and display it on the webpage. The alt attribute provides a description of the image in case it can't be displayed.\n"
   ]
  }
 ],
 "metadata": {
  "kernelspec": {
   "display_name": "venv",
   "language": "python",
   "name": "python3"
  },
  "language_info": {
   "codemirror_mode": {
    "name": "ipython",
    "version": 3
   },
   "file_extension": ".py",
   "mimetype": "text/x-python",
   "name": "python",
   "nbconvert_exporter": "python",
   "pygments_lexer": "ipython3",
   "version": "3.12.3"
  }
 },
 "nbformat": 4,
 "nbformat_minor": 5
}
