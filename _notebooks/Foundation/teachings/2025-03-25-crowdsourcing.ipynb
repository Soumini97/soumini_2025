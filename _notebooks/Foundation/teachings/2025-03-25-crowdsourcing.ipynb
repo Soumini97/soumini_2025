{
 "cells": [
  {
   "cell_type": "markdown",
   "metadata": {},
   "source": [
    "---\n",
    "layout: page\n",
    "title: Crowdsourcing\n",
    "permalink: /crowdsourcing/\n",
    "---"
   ]
  },
  {
   "cell_type": "markdown",
   "metadata": {},
   "source": [
    "# Rate the Mango: 7/10"
   ]
  },
  {
   "cell_type": "markdown",
   "metadata": {},
   "source": [
    "# Crowdsourcing Definition\n",
    "\n",
    "Crowdsourcing is a method of gathering contributions from a large group of people, typically over the internet, to solve problems, generate data, or complete complex tasks. Instead of relying on a small group of experts, crowdsourcing breaks tasks into smaller pieces and distributes them to many participants, making it faster, cheaper, and more diverse."
   ]
  },
  {
   "cell_type": "markdown",
   "metadata": {},
   "source": [
    "# Popcorn Hack 3\n",
    "\n",
    "GoFundMe: Gofundme is a platform where people can donate money to support people in need. It's is a type of crowdfunding because it involves many people contributing to raise money for a cause. "
   ]
  },
  {
   "cell_type": "markdown",
   "metadata": {},
   "source": [
    "# Homework Hack 3\n",
    "Using crowdsourcing to create a spotify playlist could improve "
   ]
  }
 ],
 "metadata": {
  "language_info": {
   "name": "python"
  }
 },
 "nbformat": 4,
 "nbformat_minor": 2
}
