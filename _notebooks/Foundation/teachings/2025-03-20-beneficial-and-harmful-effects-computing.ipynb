{
 "cells": [
  {
   "cell_type": "markdown",
   "metadata": {},
   "source": [
    "---\n",
    "layout: page\n",
    "title: Beneficial and Harmful Effects of Computing\n",
    "permalink: /beneficial-harmful-effects-of-computing/\n",
    "---"
   ]
  },
  {
   "cell_type": "markdown",
   "metadata": {},
   "source": [
    "# Popcorn Hack Number 1 \n",
    "\n",
    "Technological innovations are useful in improving data collection and analysis, which is one positive impact. They increase simplicity and efficiency of many daily tasks. For example, due to the advancement of surgical robots in hospitals, doctors are able to simulate high-risk surgeries and surgeries proceed more smoothly. Risks are minimized and the patient has a higher chance of survival. However, the negative impacts of this could mean higher costs of healthcare due to expensive equipment and technology. Additionally, system malfunctions and software glitches would harm the patient's safety, as there is no room for error in a patient's life. "
   ]
  },
  {
   "cell_type": "markdown",
   "metadata": {},
   "source": [
    "# Popcorn Hack Number 2\n",
    "\n",
    "The meaning of negative effects of technology is the harmful side effects that using technology can have on humans. Some examples include violation of privacy, errors in computing, cyberbullying, etc. Using responsible programming involves designing systems with ethical considerations, lots of testing, and proper guidelines to reduce risks."
   ]
  },
  {
   "cell_type": "markdown",
   "metadata": {},
   "source": [
    "# Popcorn Hack Number 3\n",
    "\n",
    "It is important to understand the unintended effects of technology, such as dopamine-driven technology, since these can cause significant mental health impacts and addictive behaviors. By understanding these impacts, technology can be designed better in order to promote healthy engagement and reduce addiction to technology and major health impacts. "
   ]
  },
  {
   "cell_type": "markdown",
   "metadata": {},
   "source": [
    "# Homework Hack Number 1\n",
    "\n",
    "**AI Innovation**: Surgical Robots<br>\n",
    "**Original Use**: Surgical robots were created to help doctors perform surgeries more accurately and with more control than regular methods. They are meant to be used in minimally invasive surgeries, which means smaller cuts, faster healing, and fewer risks for the patient.<br>\n",
    "**New Use Case**: A new use for surgical robots could be to teach surgery students. <br>\n",
    "**Benefits**: These robots can give students a chance to practice procedures in a safe, controlled environment, helping them learn important skills and techniques before they perform surgeries on real patients. Robots can offer step-by-step guidance and allow students to observe complex surgeries, helping them learn without the pressure of working on real patients.<br>\n",
    "**Drawbacks**: One drawback is the cost of the equipment. Many schools and hopsitals may be unable to keep the funding necessary to maintain surgical robots. Another drawback includes ethical considerations and actual experience. Relying too much on technology could reduce the hands-on experience and skills of the students.<br>\n",
    "\n",
    "\n"
   ]
  },
  {
   "cell_type": "markdown",
   "metadata": {},
   "source": [
    "# Homework Hack Number 2\n",
    "\n",
    "**Problem**: AI is used in healthcare for patient data collection<br>\n",
    "**Risk**: This causes problems in data security and risks patient privacy. If the information gets leaked, patients and the public would lose trust in hospitals.<br>\n",
    "**Solution 1**: Strenghten data security protocols. Use mutli-factor authentication, advanced encyrption and secure cloud storage solutions to protect patient privacy. Regular security checks and following industry standards can also help make sure that patient data remains secure and reduce the risk of leaks. <br>\n",
    "**Solution 2**: Minimize patient data collected and anonymize the patient details. This ensures that only the necessary information is stored and in the case that there is an information leak, the patient's details will not be publicised, which reduces the effects of the leak. <br>\n",
    "**Reflection**: AI is a powerful tool for data collection and can make the lives of healthcare providers significantly easier, but the risk of compromising patient privacy is present. If patient info is leaked, it could result in major drawbacks for hospitals and the healthcare industry, so it is important to implement proper data security protocols and minimize data collected on patients to ensure mutual trust between the patient and the healthcare providers. \n",
    "\n",
    "\n",
    "\n"
   ]
  },
  {
   "cell_type": "markdown",
   "metadata": {},
   "source": [
    "# Homework Hack Number 3\n",
    "\n",
    "**Example**: Microsoft chatbot Tay<br>\n",
    "**Summary**: Tay was trained on a massive dataset of public Twitter conversations, including those containing hateful and discriminatory language. However, with time, it began promoting racist content and instigating offensive and inflammatory messages online. It caused a huge backlash. <br>\n",
    "\n",
    "**Result**: Microsoft quickly shut down the experiment and removed Tay from Twitter, highlighting the potential dangers of AI systems learning from biased or harmful data.<br>\n",
    "\n",
    "**Preventative Measure**: Train AI to recognize offensive words and stop any message output that contains these offensive words. This could reduce the message content. \n"
   ]
  }
 ],
 "metadata": {
  "language_info": {
   "name": "python"
  }
 },
 "nbformat": 4,
 "nbformat_minor": 2
}
