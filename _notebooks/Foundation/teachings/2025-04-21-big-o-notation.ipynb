{
 "cells": [
  {
   "cell_type": "markdown",
   "metadata": {},
   "source": [
    "---\n",
    "layout: page\n",
    "title: Big O Notation\n",
    "permalink: /lists/\n",
    "---"
   ]
  },
  {
   "cell_type": "markdown",
   "metadata": {},
   "source": [
    "# Popcorn Hack 1"
   ]
  },
  {
   "cell_type": "code",
   "execution_count": null,
   "metadata": {},
   "outputs": [
    {
     "name": "stdout",
     "output_type": "stream",
     "text": [
      "3\n",
      "1\n",
      "2\n",
      "3\n",
      "4\n"
     ]
    }
   ],
   "source": [
    "arr = [1, 2, 3, 4]\n",
    "# constant time complexity\n",
    "print(arr[2])\n",
    "\n",
    "# logarithmic time complexity\n",
    "for i in arr:\n",
    "    print(i)"
   ]
  },
  {
   "cell_type": "markdown",
   "metadata": {},
   "source": [
    "# Popcorn Hack 2"
   ]
  },
  {
   "cell_type": "code",
   "execution_count": null,
   "metadata": {},
   "outputs": [
    {
     "name": "stdout",
     "output_type": "stream",
     "text": [
      "(1, 2)\n",
      "(1, 3)\n",
      "(2, 3)\n"
     ]
    }
   ],
   "source": [
    "arr = [1, 2, 3]\n",
    "for i in range(len(arr)): \n",
    "    for j in range(i+1, len(arr)):\n",
    "        print(f\"({arr[i]}, {arr[j]})\")\n",
    "        \n",
    "# Time complexity: this is O(n^2) because for each element in the array, we are iterating through the rest of the elements. Nested loops require a quadratic time complexity because each element is compared with each element that comes after it. "
   ]
  },
  {
   "cell_type": "markdown",
   "metadata": {},
   "source": [
    "# Popcorn Hack 3\n",
    "Inefficient for large inputs: B, factorial time. It grows very quickly. <br>\n",
    "Represented by a nested loop: C, quadratic time"
   ]
  },
  {
   "cell_type": "markdown",
   "metadata": {},
   "source": [
    "# Homework Hack "
   ]
  },
  {
   "cell_type": "code",
   "execution_count": 2,
   "metadata": {},
   "outputs": [
    {
     "name": "stdout",
     "output_type": "stream",
     "text": [
      "Constant:\n",
      "5\n",
      "\n",
      "Linear:\n",
      "5\n",
      "10\n",
      "15\n",
      "20\n",
      "25\n",
      "\n",
      "Quadratic:\n",
      "(5, 5)\n",
      "(5, 10)\n",
      "(5, 15)\n",
      "(5, 20)\n",
      "(5, 25)\n",
      "(10, 5)\n",
      "(10, 10)\n",
      "(10, 15)\n",
      "(10, 20)\n",
      "(10, 25)\n",
      "(15, 5)\n",
      "(15, 10)\n",
      "(15, 15)\n",
      "(15, 20)\n",
      "(15, 25)\n",
      "(20, 5)\n",
      "(20, 10)\n",
      "(20, 15)\n",
      "(20, 20)\n",
      "(20, 25)\n",
      "(25, 5)\n",
      "(25, 10)\n",
      "(25, 15)\n",
      "(25, 20)\n",
      "(25, 25)\n"
     ]
    }
   ],
   "source": [
    "def operate(arr, complexity):\n",
    "    if complexity == \"constant\":\n",
    "        return arr[0]\n",
    "    \n",
    "    if complexity == \"linear\":\n",
    "        for item in arr:\n",
    "            print(item)\n",
    "    \n",
    "    if complexity == \"quadratic\":\n",
    "        for i in arr:\n",
    "            for j in arr:\n",
    "                print((i, j))\n",
    "\n",
    "arr = [5, 10, 15, 20, 25]\n",
    "\n",
    "print(\"Constant:\")\n",
    "print(operate(arr, \"constant\"))\n",
    "\n",
    "print(\"\\nLinear:\")\n",
    "operate(arr, \"linear\")\n",
    "\n",
    "print(\"\\nQuadratic:\")\n",
    "operate(arr, \"quadratic\")\n",
    "\n"
   ]
  }
 ],
 "metadata": {
  "kernelspec": {
   "display_name": "venv",
   "language": "python",
   "name": "python3"
  },
  "language_info": {
   "codemirror_mode": {
    "name": "ipython",
    "version": 3
   },
   "file_extension": ".py",
   "mimetype": "text/x-python",
   "name": "python",
   "nbconvert_exporter": "python",
   "pygments_lexer": "ipython3",
   "version": "3.12.3"
  }
 },
 "nbformat": 4,
 "nbformat_minor": 2
}
