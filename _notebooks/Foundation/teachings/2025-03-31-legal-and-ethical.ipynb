{
 "cells": [
  {
   "cell_type": "markdown",
   "metadata": {},
   "source": [
    "---\n",
    "layout: page\n",
    "title: Legal and Ethical Concerns\n",
    "permalink: /legal-ethical-concerns/\n",
    "---"
   ]
  },
  {
   "cell_type": "markdown",
   "metadata": {},
   "source": [
    "# Popcorn Hack 1: Protecting Intellectual Property\n",
    "\n",
    "To protect intellectual property, one can:\n",
    "1) Register their property for legal ownership\n",
    "2) Use watermarks\n",
    "3) Define the terms of use\n",
    "4) Use technology to restrict access and copying"
   ]
  },
  {
   "cell_type": "markdown",
   "metadata": {},
   "source": [
    "# Popcorn Hack 2: MIT License \n",
    "\n",
    "**MIT License**: a license that allows other users to copy, user, change, merge, publish and sell copies of the software.\n",
    "\n",
    "An MIT license for our repo would allow other users to use and modify our code for our DNA game that we developed. \n",
    "\n",
    "Copyright (c) 2025 Soumini Kandula\n",
    "\n",
    "Permission is hereby granted, free of charge, to any person obtaining a copy of this software and associated documentation files (the “Software”), to deal in the Software without restriction, including without limitation the rights to use, copy, modify, merge, publish, distribute, sublicense, and/or sell copies of the Software, and to permit persons to whom the Software is furnished to do so, subject to the following conditions:\n",
    "\n",
    "The above copyright notice and this permission notice shall be included in all copies or substantial portions of the Software.\n",
    "\n",
    "THE SOFTWARE IS PROVIDED “AS IS”, WITHOUT WARRANTY OF ANY KIND, EXPRESS OR IMPLIED, INCLUDING BUT NOT LIMITED TO THE WARRANTIES OF MERCHANTABILITY, FITNESS FOR A PARTICULAR PURPOSE AND NONINFRINGEMENT. IN NO EVENT SHALL THE AUTHORS OR COPYRIGHT HOLDERS BE LIABLE FOR ANY CLAIM, DAMAGES OR OTHER LIABILITY, WHETHER IN AN ACTION OF CONTRACT, TORT OR OTHERWISE, ARISING FROM, OUT OF OR IN CONNECTION WITH THE SOFTWARE OR THE USE OR OTHER DEALINGS IN THE SOFTWARE.\n"
   ]
  },
  {
   "cell_type": "markdown",
   "metadata": {},
   "source": [
    "# Popcorn Hack 3: Copyright License\n",
    "\n",
    "**Copyright license**: A public copyright license that gives others the right to use a creator's work. \n",
    "\n",
    "**Exceptions**: fair use like using something for school, news, or reviews and works that are already in the public domain. "
   ]
  },
  {
   "cell_type": "markdown",
   "metadata": {
    "vscode": {
     "languageId": "plaintext"
    }
   },
   "source": [
    "# Homework Hack: \n",
    "\n",
    "**Task 1**: Apache License<br>\n",
    "**Task 2**: I picked the Apache License 2.0 because it lets people use, share, and change my work while giving me credit. It also protects me from any issues if someone misuses my code or notes. This license keeps my projects open to others while making sure they follow the rules. For my repository, it's the best option for balance between freedom and protection.<br>\n",
    "**Task 3**: [link to license](https://github.com/Soumini97/soumini_2025/blob/main/LICENSE)"
   ]
  },
  {
   "cell_type": "markdown",
   "metadata": {
    "vscode": {
     "languageId": "plaintext"
    }
   },
   "source": [
    "# Homework Hack Extra Credit\n",
    "\n",
    "**Pilot City Project**: Our task is to create an interactive social media tool that helps Illumina expand their social following. Illumina is a biotech company that has many great innovations, but they would like to improve their science communications. For our task, we chose to make a DNA block-blast style game where users drag and drop DNA bases to their correct locations and answer genetics trivia questions for every missed base. <br>\n",
    "\n",
    "Licensed under Risha Guha, Scrum Master. <br> \n",
    "[link](https://github.com/blackstar3092/illumina_pc_frontend/blob/main/LICENSE)\n",
    "\n"
   ]
  }
 ],
 "metadata": {
  "language_info": {
   "name": "python"
  }
 },
 "nbformat": 4,
 "nbformat_minor": 2
}
