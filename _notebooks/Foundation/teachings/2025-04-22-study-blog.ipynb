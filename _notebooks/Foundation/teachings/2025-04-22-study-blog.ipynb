{
 "cells": [
  {
   "cell_type": "markdown",
   "metadata": {},
   "source": [
    "---\n",
    "layout: page\n",
    "title: Study Blog\n",
    "permalink: /study-blog/\n",
    "---"
   ]
  },
  {
   "cell_type": "markdown",
   "metadata": {
    "vscode": {
     "languageId": "html"
    }
   },
   "source": [
    "\n",
    "  <style>\n",
    "    body {\n",
    "      font-family: 'Segoe UI', sans-serif;\n",
    "      background-color: #f4f6f8;\n",
    "      padding: 40px;\n",
    "    }\n",
    "\n",
    "    .button-grid {\n",
    "      display: flex;\n",
    "      flex-wrap: wrap;\n",
    "      gap: 16px;\n",
    "    }\n",
    "\n",
    "    .pretty-button {\n",
    "      background: linear-gradient(135deg, #ff758c 0%, #ff7eb3 100%);\n",
    "      color: white;\n",
    "      padding: 12px 20px;\n",
    "      border: none;\n",
    "      border-radius: 8px;\n",
    "      text-decoration: none;\n",
    "      font-size: 16px;\n",
    "      transition: all 0.25s ease;\n",
    "      box-shadow: 0 4px 10px rgba(0, 0, 0, 0.1);\n",
    "    }\n",
    "\n",
    "    .pretty-button:hover {\n",
    "      background: linear-gradient(135deg, #ff7eb3 0%, #ff758c 100%);\n",
    "      transform: translateY(-2px);\n",
    "      box-shadow: 0 6px 14px rgba(0, 0, 0, 0.15);\n",
    "    }\n",
    "  </style>\n",
    "\n",
    "<html>\n",
    "  <div class=\"button-grid\">\n",
    "    <a href=\"https://soumini97.github.io/soumini_2025/beneficial-harmful-effects-of-computing/\" class=\"pretty-button\">Beneficial and Harmful Effects of Computing</a>\n",
    "    <a href=\"https://soumini97.github.io/soumini_2025/digitaldivide/\" class=\"pretty-button\">Digital Divide</a>\n",
    "    <a href=\"https://soumini97.github.io/soumini_2025/computing-bias/\" class=\"pretty-button\">Computing Bias</a>\n",
    "    <a href=\"https://soumini97.github.io/soumini_2025/crowdsourcing/\" class=\"pretty-button\">Crowdsourcing</a>\n",
    "    <a href=\"https://soumini97.github.io/soumini_2025/legal-ethical-concerns/\" class=\"pretty-button\">Legal and Ethical Concerns</a>\n",
    "    <a href=\"https://soumini97.github.io/soumini_2025/safe-computing/\" class=\"pretty-button\">Safe Computing</a>\n",
    "    <a href=\"https://soumini97.github.io/soumini_2025/lists/\" class=\"pretty-button\">Lists</a>\n",
    "    <a href=\"https://soumini97.github.io/soumini_2025/binary-search-algorithm/\" class=\"pretty-button\">Binary Search Algorithm</a>\n",
    "    <a href=\"https://soumini97.github.io/soumini_2025/big-o-notation/\" class=\"pretty-button\">Big O Notation</a>\n",
    "    <a href=\"https://soumini97.github.io/soumini_2025/undecideable-graphs-heuristics/\" class=\"pretty-button\">Undecideable-Graphs-Heuristics</a>\n",
    "    <a href=\"https://soumini97.github.io/soumini_2025/big-idea-3-summary/\" class=\"pretty-button\">Tri 1 Material</a>\n",
    "  </div>\n",
    "<html>\n",
    "\n"
   ]
  },
  {
   "cell_type": "markdown",
   "metadata": {},
   "source": [
    "# Study Plan\n",
    "\n",
    "**Week of April 21st**: Finish up to Unit 8 of Khan Academy AP CSP Course to familiarize and practice topics in areas of weakness <br>\n",
    "**Weekend of April 26th**: Re-take MCQ 1 to improve score <br>\n",
    "**Week of April 28th**: Review any incorrect questions from MCQ 1, understand the incorrect topics, finish Units 9-10 of AP CSP in Khan Academy. Final revision of CPT Project. <br>\n",
    "**Weekend of May 3rd**: Retake MCQ 2 to improve score. <br>\n",
    "**Week of May 5th-May 12th**: Review incorrect questions from MCQ 2 and understand the incorrect topics. Begin preparing for the FRQ by reviewing code and explaining code segments and their functionality, line by line. <br>\n",
    "**May 12th to Exam Day**: Last minute topics that need review + Final MCQ Check\n"
   ]
  }
 ],
 "metadata": {
  "kernelspec": {
   "display_name": "venv",
   "language": "python",
   "name": "python3"
  },
  "language_info": {
   "codemirror_mode": {
    "name": "ipython",
    "version": 3
   },
   "file_extension": ".py",
   "mimetype": "text/x-python",
   "name": "python",
   "nbconvert_exporter": "python",
   "pygments_lexer": "ipython3",
   "version": "3.12.3"
  }
 },
 "nbformat": 4,
 "nbformat_minor": 2
}
