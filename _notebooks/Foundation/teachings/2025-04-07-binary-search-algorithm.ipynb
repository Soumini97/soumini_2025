{
 "cells": [
  {
   "cell_type": "markdown",
   "metadata": {},
   "source": [
    "---\n",
    "layout: page\n",
    "title: Binary Search Algorithm\n",
    "permalink: /binary-search-algorithm/\n",
    "---"
   ]
  },
  {
   "cell_type": "markdown",
   "metadata": {},
   "source": [
    "# Popcorn Hack 1: CB MCQ 2020\n",
    "\n",
    "Which of the following conditions must be met in order for the procedure to work as intended? Explain why.<br>\n",
    "\n",
    "a) The length of numList must be even<br>\n",
    "b) The list numList must not contain any duplicate values<br>\n",
    "c) The values in numList must be in sorted order<br>\n",
    "d) The value of target must not be equal to -1<br>\n",
    "\n",
    "The answer is C. The array must be in a sorted order because it cannot search the first half or the second half if the target isn't guaranteed to be in one of the halves. "
   ]
  },
  {
   "cell_type": "markdown",
   "metadata": {},
   "source": [
    "# Popcorn Hack 2: \n",
    "Which of the following statements correctly describes a disadvantage of binary search compared to linear search? Explain why your answer is correct and why the others are wrong.<br>\n",
    "\n",
    "a) Binary search takes more time on average than linear search  <br>\n",
    "b) Binary search cannot be used on unsorted lists without modifications  <br>\n",
    "c) Binary search always returns the first occurrence of the target  <br>\n",
    "d) Binary search can only be used on lists with unique values  <br>\n",
    "\n",
    "The answer is B. Since Binary search must search one of the halves of the data set, for the target to be in one guaranteed half, it must be sorted, so Binary search cannot be used on unsorted lists. "
   ]
  },
  {
   "cell_type": "markdown",
   "metadata": {},
   "source": [
    "# Popcorn Hack 3: \n",
    "\n",
    "Create a binary search algorithm that returns the index of a value in a data set."
   ]
  },
  {
   "cell_type": "code",
   "execution_count": 4,
   "metadata": {},
   "outputs": [
    {
     "name": "stdout",
     "output_type": "stream",
     "text": [
      "6\n"
     ]
    }
   ],
   "source": [
    "def binary_search_letters(arr, target):\n",
    "    low, high = 0, len(arr) - 1\n",
    "\n",
    "    while low <= high:\n",
    "        mid = (low + high) // 2\n",
    "        guess = arr[mid]\n",
    "\n",
    "        if guess == target:\n",
    "            return mid  \n",
    "        elif guess < target:\n",
    "            low = mid + 1  \n",
    "        else:\n",
    "            high = mid - 1  \n",
    "    return -1 \n",
    "\n",
    "letters = ['a', 'b', 'c', 'd', 'e', 'f', 'g']\n",
    "print(binary_search_letters(letters, 'g'))  # Output should be 6"
   ]
  },
  {
   "cell_type": "markdown",
   "metadata": {},
   "source": [
    "# Homework Hack"
   ]
  },
  {
   "cell_type": "code",
   "execution_count": 7,
   "metadata": {},
   "outputs": [
    {
     "name": "stdout",
     "output_type": "stream",
     "text": [
      "First few rows of sorted data:\n",
      "        Product  Price\n",
      "5        Eraser   0.50\n",
      "14  Paper Clips   0.89\n",
      "2        Pencil   0.99\n",
      "9    Glue Stick   1.25\n",
      "1           Pen   1.50\n",
      "Original row count: 15\n",
      "Cleaned row count: 15\n",
      "Yay! Price $1.25 found at index 3.\n",
      "Yay! Price $6.49 found at index 12.\n",
      "Oopsies! Price $10.00 not found in the list.\n"
     ]
    }
   ],
   "source": [
    "import pandas as pd\n",
    "data = pd.read_csv(\"school_supplies.csv\")\n",
    "data_cleaned = data.dropna()\n",
    "data_sorted = data_cleaned.sort_values(by=\"Price\")\n",
    "price_list = data_sorted[\"Price\"].tolist()\n",
    "print(\"First few rows of sorted data:\")\n",
    "print(data_sorted.head())\n",
    "print(\"Original row count:\", len(data))\n",
    "print(\"Cleaned row count:\", len(data_cleaned))\n",
    "\n",
    "def binary_search_for_price(arr, target):\n",
    "    low, high = 0, len(arr) - 1\n",
    "    \n",
    "    while low <= high:\n",
    "        mid = (low + high) // 2  # Find middle index\n",
    "        \n",
    "        if arr[mid] == target:\n",
    "            return mid  # Target found\n",
    "        elif arr[mid] < target:\n",
    "            low = mid + 1  # Search right half\n",
    "        else:\n",
    "            high = mid - 1  # Search left half\n",
    "    \n",
    "    return -1  # Target not found\n",
    "\n",
    "# Prices to search\n",
    "search_prices = [1.25, 6.49, 10.00]\n",
    "\n",
    "# Use binary search to look for each price\n",
    "for price in search_prices:\n",
    "    result = binary_search_for_price(price_list, price)\n",
    "    if result != -1:\n",
    "        print(f\"Yay! Price ${price:.2f} found at index {result}.\")\n",
    "    else:\n",
    "        print(f\"Oopsies! Price ${price:.2f} not found in the list.\")"
   ]
  },
  {
   "cell_type": "markdown",
   "metadata": {},
   "source": [
    "# Explanation of Homework Hack\n",
    "Code steps: \n",
    "1. loads a CSV file with school supplies data into a pandas dataframe.\n",
    "2. removes any rows that contain missing values.\n",
    "3. sorts the cleaned data by the \"Price\" column.\n",
    "4. converts the sorted \"Price\" column into a list for binary search.\n",
    "5. defines a binary search function to efficiently locate a target price.\n",
    "6. loops through the prices given and searches each half for the given price. \n",
    "6. prints whether each price was found or not.\n"
   ]
  }
 ],
 "metadata": {
  "kernelspec": {
   "display_name": "venv",
   "language": "python",
   "name": "python3"
  },
  "language_info": {
   "codemirror_mode": {
    "name": "ipython",
    "version": 3
   },
   "file_extension": ".py",
   "mimetype": "text/x-python",
   "name": "python",
   "nbconvert_exporter": "python",
   "pygments_lexer": "ipython3",
   "version": "3.12.3"
  }
 },
 "nbformat": 4,
 "nbformat_minor": 2
}
