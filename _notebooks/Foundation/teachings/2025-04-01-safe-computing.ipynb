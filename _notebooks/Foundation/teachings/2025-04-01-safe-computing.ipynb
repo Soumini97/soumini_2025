{
 "cells": [
  {
   "cell_type": "markdown",
   "metadata": {},
   "source": [
    "---\n",
    "layout: page\n",
    "title: Safe Computing\n",
    "permalink: /safe-computing/\n",
    "---"
   ]
  },
  {
   "cell_type": "markdown",
   "metadata": {},
   "source": [
    "# Popcorn Hack Number 1: \n",
    "\n",
    "MCQ Answer: A--> A finger print is considered PII."
   ]
  },
  {
   "cell_type": "markdown",
   "metadata": {},
   "source": [
    "# Popcorn Hack Number 2: \n",
    "\n",
    "A and D are not considered multi-factor authentication."
   ]
  },
  {
   "cell_type": "markdown",
   "metadata": {},
   "source": [
    "# Popcorn Hack Number 3: \n",
    "\n",
    "B. Finn and Gwen develop a system that maps each letter of the alphabet to a unique symbol using a secret key. Finn uses the key to write a message to Gwen where each letter is replaced with the corresponding symbol. Gwen uses the key to map each symbol back to the original letter."
   ]
  },
  {
   "cell_type": "markdown",
   "metadata": {},
   "source": [
    "# Popcorn Hack Number 4:\n",
    "\n",
    "What makes a good password: A combination of letters, numbers, and symbols. It doesn't include public information like name and birthdate, it's not an easy to guess word, and it's long - 8+ characters. "
   ]
  }
 ],
 "metadata": {
  "language_info": {
   "name": "python"
  }
 },
 "nbformat": 4,
 "nbformat_minor": 2
}
