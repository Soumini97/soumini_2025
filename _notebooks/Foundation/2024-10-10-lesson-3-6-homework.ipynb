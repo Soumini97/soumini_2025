{
 "cells": [
  {
   "cell_type": "markdown",
   "metadata": {},
   "source": [
    "--- \n",
    "layout: post\n",
    "title: 3.6-3.7 Homework\n",
    "description: Code cells containing homework hacks for 3.6 lesson \n",
    "permalink: /3-6-7homework/\n",
    "---"
   ]
  },
  {
   "cell_type": "markdown",
   "metadata": {},
   "source": [
    "This is all my homework for lessons 3.6 and 3.7."
   ]
  },
  {
   "cell_type": "code",
   "execution_count": 3,
   "metadata": {},
   "outputs": [
    {
     "name": "stdout",
     "output_type": "stream",
     "text": [
      "These two statements are equal to each other\n"
     ]
    }
   ],
   "source": [
    "# 3.6 Pseudo + Hacks 1\n",
    "statement1 = 46 \n",
    "statement2 = 43 + 3\n",
    "if statement1 == statement2: \n",
    "    print(\"These two statements are equal to each other\")\n",
    "else:\n",
    "    print(\"These two statements are not equal to each other\")"
   ]
  },
  {
   "cell_type": "code",
   "execution_count": 8,
   "metadata": {},
   "outputs": [
    {
     "name": "stdout",
     "output_type": "stream",
     "text": [
      "We are the same length!\n"
     ]
    }
   ],
   "source": [
    "# 3.6 Pseudo + Hacks 2\n",
    "statement3 = \"I like ducks\"\n",
    "statement4 = \"I hate ducks\"\n",
    "\n",
    "yay = len(statement3)\n",
    "more_yay = len(statement4)\n",
    "\n",
    "if statement3 == statement4:\n",
    "    print(\"We are the same\")\n",
    "elif yay == more_yay:\n",
    "    print(\"We are the same length!\")\n",
    "else:\n",
    "    print(\"We are not that similar :(\")"
   ]
  },
  {
   "cell_type": "code",
   "execution_count": null,
   "metadata": {},
   "outputs": [],
   "source": [
    "# 3.6 Pseudo + Hacks 3\n",
    "def number_asker(): # New function called number_aker\n",
    "    counter = 1 # sets a counter equal to 1\n",
    "    \n",
    "    for i in range (1, 11): #Loop from 1-10\n",
    "        user_input = int(input(f\"Enter {counter}: \"))\n",
    "        \n",
    "        while user_input != counter: # Keeps asking until number is correct\n",
    "            print(f\"That's not {counter}. Try again\")\n",
    "            user_input = int(input(f\"Enter {counter}: \"))\n",
    "        \n",
    "        counter += 1 # Moves on to next number\n",
    "    print(\"You have successfully entered numbers 1-10! Congratulations, you know basic math!\")\n",
    "    \n",
    "number_asker()"
   ]
  },
  {
   "cell_type": "code",
   "execution_count": 10,
   "metadata": {},
   "outputs": [
    {
     "name": "stdout",
     "output_type": "stream",
     "text": [
      "It will be a great day!\n"
     ]
    }
   ],
   "source": [
    "# 3.6 If statements Hack Number 1\n",
    "weather = \"rainy\"\n",
    "temperature = 56 \n",
    "great_day = (weather == \"rainy\") and (temperature <= 63)\n",
    "\n",
    "if (great_day):\n",
    "    print(\"It will be a great day!\")\n",
    "    "
   ]
  },
  {
   "cell_type": "code",
   "execution_count": 11,
   "metadata": {},
   "outputs": [
    {
     "name": "stdout",
     "output_type": "stream",
     "text": [
      "They are equal!\n"
     ]
    }
   ],
   "source": [
    "# 3.6 If statements Hack Number 2\n",
    "lala = 1000\n",
    "lalala = 10 ** 3\n",
    "\n",
    "if (lala == lalala):\n",
    "    print(\"They are equal!\")"
   ]
  },
  {
   "cell_type": "code",
   "execution_count": null,
   "metadata": {},
   "outputs": [],
   "source": [
    "# 3.6 Else If statements Hack \n",
    "\n",
    "def age_checky_thingy():\n",
    "    age = int(input(\"Please enter your age: \"))\n",
    "    \n",
    "    if 1 <= age <= 12: # Changing the lower bounds to 1 because what if they enter 1 and it ouputs adult?\n",
    "        print(\"You are a child.\")\n",
    "    elif 13 <= age <= 17: # Checks if age is between 13 and 17\n",
    "        print(\"You are a teenager\")\n",
    "    else: #Checks for above 18, assuming nobody enters 0\n",
    "        print(\"You are an adult\")\n",
    "        \n",
    "age_checky_thingy()"
   ]
  },
  {
   "cell_type": "code",
   "execution_count": 12,
   "metadata": {},
   "outputs": [
    {
     "name": "stdout",
     "output_type": "stream",
     "text": [
      "You can buy an iPhone 12!\n"
     ]
    }
   ],
   "source": [
    "# 3.7 Nested Conditionals 1\n",
    "# Budget\n",
    "budget = 1100  \n",
    "\n",
    "# Phone prices\n",
    "iphone_15_price = 1204\n",
    "iphone_12_price = 1099\n",
    "iphone_10_price = 807\n",
    "\n",
    "# Determine which iPhone you can buy\n",
    "if budget >= iphone_15_price:\n",
    "    print(\"You can buy an iPhone 15!\")\n",
    "elif budget >= iphone_12_price:\n",
    "    print(\"You can buy an iPhone 12!\")\n",
    "elif budget >= iphone_10_price:\n",
    "    print(\"You can buy an iPhone 10!\")\n",
    "else:\n",
    "    print(\"You don't have enough money to buy an iPhone.\")"
   ]
  },
  {
   "cell_type": "code",
   "execution_count": 13,
   "metadata": {},
   "outputs": [
    {
     "name": "stdout",
     "output_type": "stream",
     "text": [
      "You have the basic ingredients.\n",
      "You can make a basic cake batter.\n",
      "You don't have milk, the cake might be a bit dry.\n",
      "Your cake will rise perfectly.\n",
      "The cake will have a nice vanilla flavor.\n"
     ]
    }
   ],
   "source": [
    "# 3.7 Nested Conditionals 2\n",
    "# Ingredients\n",
    "has_flour = True\n",
    "has_sugar = True\n",
    "has_eggs = True\n",
    "has_milk = False\n",
    "has_baking_powder = True\n",
    "has_vanilla_extract = True\n",
    "\n",
    "# Baking logic based on available ingredients\n",
    "if has_flour and has_sugar:\n",
    "    print(\"You have the basic ingredients.\")\n",
    "    \n",
    "    if has_eggs:\n",
    "        print(\"You can make a basic cake batter.\")\n",
    "\n",
    "        if has_milk:\n",
    "            print(\"Great! The cake will be moist.\")\n",
    "        else:\n",
    "            print(\"You don't have milk, the cake might be a bit dry.\")\n",
    "        \n",
    "        if has_baking_powder:\n",
    "            print(\"Your cake will rise perfectly.\")\n",
    "        else:\n",
    "            print(\"Without baking powder, the cake might not rise.\")\n",
    "        \n",
    "        if has_vanilla_extract:\n",
    "            print(\"The cake will have a nice vanilla flavor.\")\n",
    "        else:\n",
    "            print(\"No vanilla extract, the flavor will be more basic.\")\n",
    "    else:\n",
    "        print(\"You can't bake a cake without eggs.\")\n",
    "\n",
    "else:\n",
    "    print(\"You don't have enough ingredients to bake a cake.\")"
   ]
  },
  {
   "cell_type": "code",
   "execution_count": 15,
   "metadata": {},
   "outputs": [
    {
     "name": "stdout",
     "output_type": "stream",
     "text": [
      "It's decent weather.\n",
      "Cold weather is better weather\n",
      "Unfortunately it's not foggy\n",
      "Rainy weather is wonderful weather! Be happy.\n",
      "Aww, it's not thunderstormy.\n"
     ]
    }
   ],
   "source": [
    "# Weather conditions\n",
    "hot = False\n",
    "mid = True\n",
    "cold = True\n",
    "foggy = False\n",
    "rainy = True\n",
    "thunderstormy = False\n",
    "\n",
    "# Temperature logic based off of the conditions\n",
    "if not hot and mid:\n",
    "    print(\"It's decent weather.\")\n",
    "    \n",
    "    if cold:\n",
    "        print(\"Cold weather is better weather\")\n",
    "\n",
    "        if foggy:\n",
    "            print(\"Foggy weather is great weather\")\n",
    "        else:\n",
    "            print(\"Unfortunately it's not foggy\")\n",
    "        \n",
    "        if rainy:\n",
    "            print(\"Rainy weather is wonderful weather! Be happy.\")\n",
    "        else:\n",
    "            print(\"Unfortunately, it's not rainy\")\n",
    "        \n",
    "        if thunderstormy:\n",
    "            print(\"It's thunderstormy!! Thunderstorms are so fun.\")\n",
    "        else:\n",
    "            print(\"Aww, it's not thunderstormy.\")\n",
    "    else:\n",
    "        print(\"Aww it's just meh weather\")\n",
    "\n",
    "else:\n",
    "    print(\"Bad weather. Bad bad bad bad weather.\")"
   ]
  }
 ],
 "metadata": {
  "kernelspec": {
   "display_name": "venv",
   "language": "python",
   "name": "python3"
  },
  "language_info": {
   "codemirror_mode": {
    "name": "ipython",
    "version": 3
   },
   "file_extension": ".py",
   "mimetype": "text/x-python",
   "name": "python",
   "nbconvert_exporter": "python",
   "pygments_lexer": "ipython3",
   "version": "3.12.3"
  }
 },
 "nbformat": 4,
 "nbformat_minor": 2
}
