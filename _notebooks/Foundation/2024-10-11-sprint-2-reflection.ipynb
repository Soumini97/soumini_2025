{
 "cells": [
  {
   "cell_type": "markdown",
   "metadata": {},
   "source": [
    "--- \n",
    "layout: post\n",
    "title: Sprint 2 Personal Reflection\n",
    "description: Sprint 2 Reflection\n",
    "permalink: /sprint-2-reflection/\n",
    "---"
   ]
  },
  {
   "cell_type": "markdown",
   "metadata": {
    "vscode": {
     "languageId": "plaintext"
    }
   },
   "source": [
    "# Reflection\n",
    "## Blog\n",
    "- In order to properly utlize the skills I have learned in this Sprint, I created a blog on Sprint 2 that includes both a quick summary of each unit as well as all of my homework for each unit. To properly equip myself for college board and project based learning, I'm going to consistntly review these topics until they are ingrained in my memory. This link will take you to my blog summary: [Blog](https://soumini97.github.io/soumini_2025/big-idea-3-summary/)\n",
    "\n",
    "## Memory\n",
    "- To make our lesson memorable and easy to understand, we used analogies to help represent difficult topics, including De Morgan's Law. \n",
    "- We mainly taught through popcorn hacks to show how examples of our concepts could be used in code. This made it easier to understand and visualize where and how you would use mathematical operators, and boolean operators. \n",
    "- We also incorporated easy quizzes to test one's knowledge on the topics so that people could take the quiz and without grading pressure. \n",
    "\n",
    "## Relevancy\n",
    "- Something impactful I learned from another lesson was JSON in Lesson 3.2. This was a topic I hadn't learned before and was completely unfamiliar with and using JSON, I was able to parse and edit blog posts online and make changes to blog posts. \n",
    "\n",
    "## Beyond Perfunctory\n",
    "- Some personal growth I have showed in this Sprint that shows I didn't use chatgpt for all my assignments is showed in my homework hacks. I used variables distinct to myself and my personality and had a lot of fun messing with variables and functions. \n",
    "- I helped create the lessons and make them understandable to those who were listening. \n",
    "- Another example of my personal growth is my blog post. I went through each lesson and made my own summary for each Unit, that showed how much I learned in each Unit. \n",
    "- I also completed some extra work for some of the homework assignments "
   ]
  }
 ],
 "metadata": {
  "language_info": {
   "name": "python"
  }
 },
 "nbformat": 4,
 "nbformat_minor": 2
}
