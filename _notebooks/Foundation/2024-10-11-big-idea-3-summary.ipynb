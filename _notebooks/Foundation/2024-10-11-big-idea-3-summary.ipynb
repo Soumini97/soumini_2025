{
 "cells": [
  {
   "cell_type": "markdown",
   "metadata": {},
   "source": [
    "--- \n",
    "layout: post\n",
    "title: Big Idea 3 summary\n",
    "description: Summary of Big Idea 3 units\n",
    "permalink: /big-idea-3-summary/\n",
    "---"
   ]
  },
  {
   "cell_type": "markdown",
   "metadata": {},
   "source": [
    "# Summary\n",
    "In order to retain all my information, I'm going to review what I have learned and practice writing code that utilizes the skills I have learnt in the past week. I also have another blog post under 3.6 homework that documents my coding homework for 3.6. Due to the cumulative structure of the lessons, my 3.6 homework also has a lot of the work and skills I learned in other units. "
   ]
  }
 ],
 "metadata": {
  "language_info": {
   "name": "python"
  }
 },
 "nbformat": 4,
 "nbformat_minor": 2
}
