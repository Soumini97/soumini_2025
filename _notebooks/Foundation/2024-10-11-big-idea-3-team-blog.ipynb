{
 "cells": [
  {
   "cell_type": "markdown",
   "metadata": {},
   "source": [
    "--- \n",
    "layout: post\n",
    "title: Sprint 2 Team Blog\n",
    "description: Sprint 2 Team Blog \n",
    "permalink: /sprint-2-team-blog/\n",
    "---"
   ]
  },
  {
   "cell_type": "markdown",
   "metadata": {
    "vscode": {
     "languageId": "plaintext"
    }
   },
   "source": [
    "# Team Blog\n",
    "Our accomplishments:\n",
    "\n",
    "We successfully created and taught a lesson on 3.3 Mathematical Operators and 3.5 Booleans.\n",
    "\n",
    "We communicated with each other and contributed to the lesson\n",
    "\n",
    "We learned a lot about our lesson, as we had to in order to teach it.\n",
    "\n",
    "We learned a lot about both the other units in the Big Idea and a lot of other not-so-major skills we needed to get through creating our lesson\n",
    "\n",
    "\n",
    "\n",
    "Soumini's Blog: [Blog](https://soumini97.github.io/soumini_2025/big-idea-3-summary/)\n",
    "\n",
    "Soumini's Issue: [Issue](Soumini97/soumini_2025#5)\n",
    "\n",
    "\n",
    "Kush's Blog: \n",
    "\n",
    "Kush's Issue: [Issue](ThePencilSharpener/kush2024#4)\n",
    "\n",
    "\n",
    "Nikith's Blog: \n",
    "\n",
    "Nikith's Issue: [Issue](1922143/Nikith_student_2025#4)\n",
    "\n",
    "\n",
    "Ahmad's Blog: \n",
    "\n",
    "Ahmad's Issue: [Issue](Ahmadimran2009/Ahmad_2026#3 (comment))\n",
    "\n",
    "Our pages: \n",
    "\n",
    "[3.3](https://nighthawkcoders.github.io/portfolio_2025/csp/big-idea/p5/3-3-1)\n",
    "\n",
    "[3.5](https://nighthawkcoders.github.io/portfolio_2025/csp/big-idea/p5/3-5-1)"
   ]
  }
 ],
 "metadata": {
  "language_info": {
   "name": "python"
  }
 },
 "nbformat": 4,
 "nbformat_minor": 2
}
