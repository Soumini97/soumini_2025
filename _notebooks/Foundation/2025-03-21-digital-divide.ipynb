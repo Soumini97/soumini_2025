{
 "cells": [
  {
   "cell_type": "markdown",
   "metadata": {},
   "source": [
    "---\n",
    "layout: page\n",
    "title: Digital Divide\n",
    "permalink: /digitaldivide/\n",
    "---"
   ]
  },
  {
   "cell_type": "markdown",
   "metadata": {},
   "source": [
    "# Popcorn Hack\n",
    "<br>\n",
    "One way to fix the digital divide or prevent it from becoming prevalent in our community is to advocate for more funding towards technology in schools so that children have access and exposure to technology. Some things already being done in our community include distributing laptops and ipads to government schools that don't have new technology."
   ]
  },
  {
   "cell_type": "markdown",
   "metadata": {},
   "source": []
  },
  {
   "cell_type": "markdown",
   "metadata": {},
   "source": []
  }
 ],
 "metadata": {
  "language_info": {
   "name": "python"
  }
 },
 "nbformat": 4,
 "nbformat_minor": 2
}
