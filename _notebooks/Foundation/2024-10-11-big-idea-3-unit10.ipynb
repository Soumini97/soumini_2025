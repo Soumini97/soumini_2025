{
 "cells": [
  {
   "cell_type": "markdown",
   "metadata": {},
   "source": [
    "--- \n",
    "layout: post\n",
    "title: Big Idea 3 Unit 10\n",
    "description: Big Idea 3 Unit 10\n",
    "permalink: /big-idea-3-unit10/\n",
    "---"
   ]
  },
  {
   "cell_type": "markdown",
   "metadata": {
    "vscode": {
     "languageId": "plaintext"
    }
   },
   "source": [
    "# Summary \n",
    "\n",
    "## What are Lists?\n",
    "- In coding, a list is a data structure used to store an ordered collection of items. Lists are one of the most commonly used data types in many programming languages because they allow for the organization of elements, such as numbers, strings, or other objects, in a single variable.\n",
    "\n",
    "## Creating A List\n",
    "- To create a list called “aList,” you would write aList = []. This defines an empty list with no elements. If you want to create a list that already contains items, it would look like this: aList = [item1, item2, item3], where each item represents a different element in the list."
   ]
  }
 ],
 "metadata": {
  "language_info": {
   "name": "python"
  }
 },
 "nbformat": 4,
 "nbformat_minor": 2
}
