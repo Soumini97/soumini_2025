{
 "cells": [
  {
   "cell_type": "markdown",
   "metadata": {},
   "source": [
    "--- \n",
    "layout: post\n",
    "title: 2018 Practice MCQ\n",
    "description: College Board MCQ\n",
    "permalink: /college-board-multiple-choice-reflection/\n",
    "---"
   ]
  },
  {
   "cell_type": "markdown",
   "metadata": {
    "vscode": {
     "languageId": "plaintext"
    }
   },
   "source": [
    "# Summary \n",
    "1. I learned how to read code and understand what it does. I also learned about different computer science terms\n",
    "2. I am weak on vocabulary questions that ask about a certain type of CSP topics and then ask about benefits and drawbacks. \n",
    "3. I mostly made mistakes on simple things like vocabulary mistakes. I learned about cloud-computing software, incremental build, and formal definitions of many topics. "
   ]
  }
 ],
 "metadata": {
  "language_info": {
   "name": "python"
  }
 },
 "nbformat": 4,
 "nbformat_minor": 2
}
