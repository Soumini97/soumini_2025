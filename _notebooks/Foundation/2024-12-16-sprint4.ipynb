{
 "cells": [
  {
   "cell_type": "code",
   "execution_count": null,
   "metadata": {
    "vscode": {
     "languageId": "plaintext"
    }
   },
   "outputs": [],
   "source": [
    "--- \n",
    "layout: post\n",
    "title: Sprint 4 Notebook\n",
    "description: Sprint 4 Notes\n",
    "permalink: /sprint-4/\n",
    "---"
   ]
  },
  {
   "cell_type": "markdown",
   "metadata": {},
   "source": [
    "# User Story\n",
    "Feature: Book Rating system\n",
    "\n",
    "As an avid reader, Avika would like to understand which book she should read next and which are worth her time, so a book rating system would allow her to browse through other people's opinions on books so that if she finds a book with a good rating, she can use that for her next big read! She would also be able to provide her own opinion on books, like rating the book, liking, commenting on it, and replying to other's comments."
   ]
  },
  {
   "cell_type": "markdown",
   "metadata": {},
   "source": [
    "## Program with Output\n",
    "In the random_book() function, the jsonify() function is used to send the output in the form of a JSON response. This response includes the book's title, author, genre, description, and image_cover as output, which is then displayed on the frontend. The jsonify() function helps format the response that is returned when the random book data is fetched."
   ]
  },
  {
   "cell_type": "code",
   "execution_count": null,
   "metadata": {},
   "outputs": [],
   "source": [
    "return jsonify({\n",
    "    'title': book[1],\n",
    "    'author': book[2],\n",
    "    'genre': book[3],\n",
    "    'description': book[4],\n",
    "    'image_cover': book[5]\n",
    "})"
   ]
  },
  {
   "cell_type": "markdown",
   "metadata": {},
   "source": [
    "## Program with Input and Output\n",
    "On the frontend, when the user submits a comment using the textarea input field, the addComment() function in JavaScript processes the user’s input. The user’s input is then displayed as part of the output in the form of added comments that are stored in the comments object. This creates a cycle where user input directly affects the displayed content."
   ]
  },
  {
   "cell_type": "code",
   "execution_count": null,
   "metadata": {
    "vscode": {
     "languageId": "javascript"
    }
   },
   "outputs": [],
   "source": [
    "const commentText = commentInput.value.trim();\n",
    "comments[currentBook.title].push(comment);\n",
    "saveComments();\n",
    "displayComments();"
   ]
  },
  {
   "cell_type": "markdown",
   "metadata": {},
   "source": [
    "## Program with a List\n",
    "In the comments object in JavaScript, each book title has an associated list of comments. When the user submits a new comment, it is added to this list for the relevant book. This list allows multiple comments to be stored for each book and dynamically displayed on the page."
   ]
  },
  {
   "cell_type": "code",
   "execution_count": null,
   "metadata": {
    "vscode": {
     "languageId": "javascript"
    }
   },
   "outputs": [],
   "source": [
    "comments[currentBook.title] = [];\n",
    "comments[currentBook.title].push(comment);"
   ]
  },
  {
   "cell_type": "markdown",
   "metadata": {},
   "source": [
    "## Program with a Dictionary\n",
    "The bookRatings object in JavaScript is a dictionary where each key is a book title, and its value is the book's rating. This dictionary allows easy lookup and modification of the rating for each book. When a user rates a book, the rating is updated in this dictionary."
   ]
  },
  {
   "cell_type": "code",
   "execution_count": null,
   "metadata": {
    "vscode": {
     "languageId": "javascript"
    }
   },
   "outputs": [],
   "source": [
    "const bookRatings = {\n",
    "    \"Harry Potter and the Sorcerer's Stone\": 4.8,\n",
    "    \"Percy Jackson & the Olympians: The Lightning Thief\": 4.3,\n",
    "    \"The Hunger Games\": 4.2\n",
    "  };  "
   ]
  },
  {
   "cell_type": "markdown",
   "metadata": {
    "vscode": {
     "languageId": "javascript"
    }
   },
   "source": [
    "## Program with Iteration\n",
    "In the displayComments() function, the forEach() method is used to iterate over the list of comments for the current book. This iteration dynamically creates a comment box for each item in the list and displays it on the page. This allows for the number of comments to increase without additional code."
   ]
  },
  {
   "cell_type": "code",
   "execution_count": null,
   "metadata": {
    "vscode": {
     "languageId": "javascript"
    }
   },
   "outputs": [],
   "source": [
    "bookComments.forEach((comment, index) => {\n",
    "    const commentDiv = document.createElement('div');\n",
    "    commentDiv.classList.add('comment-box');\n",
    "    commentDiv.innerHTML = `\n",
    "      <div class=\"comment-text\">\n",
    "        <strong>${comment.username}</strong><br>${comment.text}\n",
    "      </div>\n",
    "    `;\n",
    "    commentsList.appendChild(commentDiv);\n",
    "  });\n",
    "  "
   ]
  },
  {
   "cell_type": "markdown",
   "metadata": {},
   "source": [
    "## Program with a Function to Perform Mathematical and/or Statistical Calculations\n",
    "This function updates the rating of a book based on user input. The rating is recalculated by taking the average of the current rating and the new rating. The currentLikes variable tracks how many ratings the book has received and is updated each time a rating is given."
   ]
  },
  {
   "cell_type": "code",
   "execution_count": null,
   "metadata": {
    "vscode": {
     "languageId": "javascript"
    }
   },
   "outputs": [],
   "source": [
    "function rateBook(rating) {\n",
    "    const bookTitle = currentBook.title;\n",
    "    // Update the book rating using a more accurate average calculation\n",
    "    bookRatings[bookTitle] = (bookRatings[bookTitle] * currentLikes + rating) / (currentLikes + 1);\n",
    "    currentLikes++;\n",
    "    document.querySelectorAll('.rating-stars span').forEach((star, index) => {\n",
    "        star.style.color = index < rating ? 'yellow' : 'gray';\n",
    "    });\n",
    "    saveComments();\n",
    "}\n"
   ]
  },
  {
   "cell_type": "markdown",
   "metadata": {},
   "source": [
    "## Program with a Selection/Condition\n",
    "This function uses an if-else statement to toggle the \"like\" status of a book. If the user has already liked the book, the function unlikes it; otherwise, it likes the book. It also updates the number of likes and stores the information in backend.\n",
    "\n"
   ]
  },
  {
   "cell_type": "code",
   "execution_count": null,
   "metadata": {
    "vscode": {
     "languageId": "javascript"
    }
   },
   "outputs": [],
   "source": [
    "function toggleLike() {\n",
    "    if (liked) {\n",
    "        liked = false;\n",
    "        currentLikes--;\n",
    "        document.getElementById('heart').textContent = '♡';\n",
    "    } else {\n",
    "        liked = true;\n",
    "        currentLikes++;\n",
    "        document.getElementById('heart').textContent = '❤️';\n",
    "    }\n",
    "    document.getElementById('likeButton').textContent = `Like (${currentLikes})`;\n",
    "    likesCount[currentBook.title] = currentLikes;\n",
    "    localStorage.setItem('likes', JSON.stringify(likesCount));\n",
    "}\n"
   ]
  },
  {
   "cell_type": "markdown",
   "metadata": {},
   "source": [
    "## Program with Purpose\n",
    "This function serves the purpose of fetching a random book from the backend API. It handles the response and displays book information, such as the title, author, genre, and description, on the webpage. If there is an issue, it alerts the user and logs the error."
   ]
  },
  {
   "cell_type": "code",
   "execution_count": null,
   "metadata": {
    "vscode": {
     "languageId": "javascript"
    }
   },
   "outputs": [],
   "source": [
    "function fetchRandomBook() {\n",
    "  fetch(`${PythonURI}/api/random_book`)\n",
    "    .then(response => response.json())\n",
    "    .then(data => {\n",
    "      if (data && data.title) {\n",
    "        currentBook = data;\n",
    "        const bookTitle = data.title;\n",
    "        const bookAuthor = data.author || 'Unknown Author';\n",
    "        const bookGenre = data.genre || 'Unknown Genre';\n",
    "        const bookDescription = data.description || 'No description available';\n",
    "        const coverUrl = data.image_cover || 'default-image.jpg';\n",
    "\n",
    "        displayBookInfo(bookTitle, bookAuthor, bookGenre, bookDescription, coverUrl);\n",
    "      } else {\n",
    "        alert('No book data found.');\n",
    "      }\n",
    "    })\n",
    "    .catch(error => {\n",
    "      console.error('Error fetching book data:', error);\n",
    "      alert('Failed to fetch book information.');\n",
    "    });\n",
    "}\n"
   ]
  }
 ],
 "metadata": {
  "language_info": {
   "name": "python"
  }
 },
 "nbformat": 4,
 "nbformat_minor": 2
}
