{
 "cells": [
  {
   "cell_type": "markdown",
   "metadata": {},
   "source": [
    "--- \n",
    "layout: post\n",
    "title: Big Idea 3 Unit 6\n",
    "description: Big Idea 3 Unit 6\n",
    "permalink: /big-idea-3-unit6/\n",
    "---"
   ]
  },
  {
   "cell_type": "markdown",
   "metadata": {
    "vscode": {
     "languageId": "plaintext"
    }
   },
   "source": [
    "# Summary \n",
    "\n",
    "This lesson covered if and else statements. These are used when evaluated conditions, like if something happens, then do this, if not, then do this, ect."
   ]
  },
  {
   "cell_type": "code",
   "execution_count": null,
   "metadata": {},
   "outputs": [],
   "source": [
    "# Python examples\n",
    "# 3.6 Pseudo + Hacks 1\n",
    "statement1 = 46 \n",
    "statement2 = 43 + 3\n",
    "if statement1 == statement2: \n",
    "    print(\"These two statements are equal to each other\")\n",
    "else:\n",
    "    print(\"These two statements are not equal to each other\")\n",
    "    \n",
    "# 3.6 Pseudo + Hacks 2\n",
    "statement3 = \"I like ducks\"\n",
    "statement4 = \"I hate ducks\"\n",
    "\n",
    "yay = len(statement3)\n",
    "more_yay = len(statement4)\n",
    "\n",
    "if statement3 == statement4:\n",
    "    print(\"We are the same\")\n",
    "elif yay == more_yay:\n",
    "    print(\"We are the same length!\")\n",
    "else:\n",
    "    print(\"We are not that similar :(\")\n",
    "    \n",
    "# 3.6 Pseudo + Hacks 3\n",
    "def number_asker(): # New function called number_aker\n",
    "    counter = 1 # sets a counter equal to 1\n",
    "    \n",
    "    for i in range (1, 11): #Loop from 1-10\n",
    "        user_input = int(input(f\"Enter {counter}: \"))\n",
    "        \n",
    "        while user_input != counter: # Keeps asking until number is correct\n",
    "            print(f\"That's not {counter}. Try again\")\n",
    "            user_input = int(input(f\"Enter {counter}: \"))\n",
    "        \n",
    "        counter += 1 # Moves on to next number\n",
    "    print(\"You have successfully entered numbers 1-10! Congratulations, you know basic math!\")\n",
    "    \n",
    "number_asker()\n",
    "\n",
    "# 3.6 If statements Hack Number 1\n",
    "weather = \"rainy\"\n",
    "temperature = 56 \n",
    "great_day = (weather == \"rainy\") and (temperature <= 63)\n",
    "\n",
    "if (great_day):\n",
    "    print(\"It will be a great day!\")\n",
    "    \n",
    "    \n",
    "# 3.6 If statements Hack Number 2\n",
    "lala = 1000\n",
    "lalala = 10 ** 3\n",
    "\n",
    "if (lala == lalala):\n",
    "    print(\"They are equal!\")\n",
    "    \n",
    "    \n",
    "# 3.6 Else If statements Hack \n",
    "def age_checky_thingy():\n",
    "    age = int(input(\"Please enter your age: \"))\n",
    "    \n",
    "    if 1 <= age <= 12: # Changing the lower bounds to 1 because what if they enter 1 and it ouputs adult?\n",
    "        print(\"You are a child.\")\n",
    "    elif 13 <= age <= 17: # Checks if age is between 13 and 17\n",
    "        print(\"You are a teenager\")\n",
    "    else: #Checks for above 18, assuming nobody enters 0\n",
    "        print(\"You are an adult\")\n",
    "        \n",
    "age_checky_thingy()\n"
   ]
  }
 ],
 "metadata": {
  "language_info": {
   "name": "python"
  }
 },
 "nbformat": 4,
 "nbformat_minor": 2
}
