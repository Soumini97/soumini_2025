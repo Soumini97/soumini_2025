{
 "cells": [
  {
   "cell_type": "markdown",
   "metadata": {},
   "source": [
    "--- \n",
    "layout: post\n",
    "title: Big Idea 3 Unit 3\n",
    "description: Big Idea 3 Unit 3\n",
    "permalink: /big-idea-3-unit3/\n",
    "---"
   ]
  },
  {
   "cell_type": "markdown",
   "metadata": {
    "vscode": {
     "languageId": "plaintext"
    }
   },
   "source": [
    "# Summary\n",
    "My group taught this unit. This one was about mathematical operators.\n",
    "\n",
    "- Addition: a + b\n",
    "- Subtraction: a - b\n",
    "- Multiplication: a * b\n",
    "- Division: a / b\n",
    "- Exponents: a ** b\n",
    "- Modulus(remainder of a / b): a MOD b (MOD is %)\n",
    "- Floor division(rounds to the nearest whole number):\n",
    "    - In python a // b\n",
    "    - Javascript doesn’t have an operator so use Math.floor(a / b)\n",
    "- Math is in order of operations\n",
    "\n",
    "Click this link to see our page: [Link to 3.3](https://nighthawkcoders.github.io/portfolio_2025/csp/big-idea/p5/3-3-1)"
   ]
  }
 ],
 "metadata": {
  "language_info": {
   "name": "python"
  }
 },
 "nbformat": 4,
 "nbformat_minor": 2
}
