{
 "cells": [
  {
   "cell_type": "markdown",
   "metadata": {},
   "source": [
    "--- \n",
    "layout: post\n",
    "title: Girls in CS Panel Blog\n",
    "description: Panel Reflection\n",
    "permalink: /panel-blog/\n",
    "---"
   ]
  },
  {
   "cell_type": "markdown",
   "metadata": {
    "vscode": {
     "languageId": "plaintext"
    }
   },
   "source": [
    "# Reflection\n",
    "## Importance of Communication with Teachers\n",
    "- You explain to TAs exactly how your code works, not whether it works or not. They're not graded on the end result, they're graded on the process. Similar to live reviews\n",
    "- Focusing on building skills is really important, explaining what you want to do and what the process is\n",
    "- Clear and direct communication is key for opportunities.\n",
    "    - Be clear and concise when you present, know what you want to talk about and follow the format\n",
    "- Interviews generally ask you to tell them about yourself, like your achievements and other. The format you deliver this in is very important\n",
    "\n",
    "## Documentation \n",
    "- Being clear and adopting agile methodology is really helpful, it's easier to communicate your ideas\n",
    "- Having a clear routine in your projects is really helpful \n",
    "- Huge flowcharts that contain individual folders and basically detail every step of the process \n",
    "\n",
    "## College Admissions: \n",
    "- Don't procrastinate writing your essays \n",
    "- With some schools AP credits transfer, but with a lot of Ivy Leagues, some APs are pretty much useless\n",
    "- In Vivian's college essays, she focused on her projects from AP CSA \n",
    "- Colleges like a passion project with respect to social issues, something that actually has an impact\n",
    "- Connections are really important, and having friends and connections makes it easier to gain new opportunities\n",
    "- Look into the school that you want to get to. You need to show your passion and show what you want to do in the university, how you want to be a part of it.\n",
    "- Investigate course catalogs to get an idea of what you want to do\n",
    "- Is there anything you would do differently in high school?\n",
    "    - Take more community college courses, dual enrollment counts for college credits\n",
    "    - Jobs don't care about GPA, they care about your projects and technical skills more, the hands-on experience\n",
    "    - Learn how to think when you're programming\n",
    "    - Extracurriculars carry on into college\n",
    "- LinkedIn is useful for applying for jobs and stuff\n",
    "- Creating a Portfolio is really helpful, on a personal website\n",
    "\n",
    "# Main Takeaways: \n",
    "- Learning how to communicate your work in an effective manner is really important and used in all areas of life\n",
    "- Hands-on experience and Project-Based Learning are highly effective manners of learning and skills that are greatly valued in the real world\n",
    "- Actively seek out my passions and work on them in a manner that is both effective and interseting, ensuring I learn something from my opportunities. \n"
   ]
  }
 ],
 "metadata": {
  "language_info": {
   "name": "python"
  }
 },
 "nbformat": 4,
 "nbformat_minor": 2
}
