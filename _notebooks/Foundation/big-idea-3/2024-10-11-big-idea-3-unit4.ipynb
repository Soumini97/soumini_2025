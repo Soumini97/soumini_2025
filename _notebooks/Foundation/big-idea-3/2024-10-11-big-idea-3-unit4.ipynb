{
 "cells": [
  {
   "cell_type": "markdown",
   "metadata": {},
   "source": [
    "--- \n",
    "layout: post\n",
    "title: Big Idea 3 Unit 4\n",
    "description: Big Idea 3 Unit 4\n",
    "permalink: /big-idea-3-unit4/\n",
    "---"
   ]
  },
  {
   "cell_type": "markdown",
   "metadata": {
    "vscode": {
     "languageId": "plaintext"
    }
   },
   "source": [
    "# Summary\n",
    "This lesson covered using string and string functions in python and javascript\n",
    "\n",
    "# Python:\n",
    "- upper() - Converts all characters in the string to uppercase.\n",
    "- lower() - Converts all characters in the string to lowercase.\n",
    "- capitalize() - Capitalizes the first character of the string.\n",
    "- replace() - Replaces a substring with another substring.\n",
    "- split() - Splits the string into a list of substrings based on a delimiter.\n",
    "- join() - Joins a list of strings into a single string with a specified delimiter.\n",
    "- isnumeric() - Checks if all the characters in the string are numeric (0-9).\n",
    "\n",
    "Functions:\n",
    "- len() - Returns the length of the string.\n",
    "- str() - Converts a value to a string.\n",
    "- f-strings - Formats strings using placeholders inside curly braces.\n",
    "- find() - Returns the lowest index of the substring if it is found in the string.\n",
    "\n",
    "# Javascript\n",
    "- Concatenation: chains strings together, can use + to do so\n",
    "- Substrings: smaller part of a string\n",
    "- length: Finds length of a string"
   ]
  },
  {
   "cell_type": "code",
   "execution_count": null,
   "metadata": {},
   "outputs": [],
   "source": [
    "# Python examples\n",
    "# Popcorn Hack Python\n",
    "# Finding number of characters in last name using Len.\n",
    "yay = len(\"Kandula\")\n",
    "print(yay) # Output is 7\n",
    "\n",
    "# Using concat to merge first and last name\n",
    "name = \"Soumini \" + \"Kandula\"\n",
    "print(name) # Output is Soumini Kandula\n",
    "\n",
    "# Using substring to show 3rd to 6th letters of my name\n",
    "substring = name[2:6]\n",
    "print(substring) # Output is umin\n",
    "\n",
    "\n",
    "# Homework Python\n",
    "def character_count(input_string): \n",
    "    total_letters = 0\n",
    "    total_numbers = 0\n",
    "    total_spaces = 0  # sets all variables to 0\n",
    "\n",
    "    for char in input_string:\n",
    "        if char.isalpha():\n",
    "            total_letters += 1  # If the character in the input string is a letter, the letter count increases by 1\n",
    "        elif char.isdigit():\n",
    "            total_numbers += 1  # If character in string is a number, the number variable increases by 1\n",
    "        elif char.isspace():\n",
    "            total_spaces += 1   # if the character in the string is a space, the space variable increases by 1\n",
    "\n",
    "    return total_letters, total_numbers, total_spaces  #returns the final number of letters, numbers, and spaces\n",
    "\n",
    "# Get user input\n",
    "user_input = input(\"Enter string: \")   # gets input\n",
    "letters, numbers, spaces = character_count(user_input)\n",
    "\n",
    "# Print the results\n",
    "print(f\"Total letters: {letters}\") # Prints number of letters\n",
    "print(f\"Total numbers: {numbers}\")  # Prints number of numbers\n",
    "print(f\"Total spaces: {spaces}\") # prints number of spaces"
   ]
  },
  {
   "cell_type": "code",
   "execution_count": null,
   "metadata": {
    "vscode": {
     "languageId": "javascript"
    }
   },
   "outputs": [],
   "source": [
    "// Javascript Examples\n",
    "// JS Popcorn Hack\n",
    "let last_name = \"Kandula\"; // setting last_name equal to Kandula\n",
    "let the_length = last_name.length; \n",
    "\n",
    "console.log(the_length) // Output would be 7\n",
    "\n",
    "let a_name = \"Soumini \" + \"Kandula\"\n",
    "console.log(a_name) // Output would be Soumini Kandula\n",
    "\n",
    "let a_substring = a_name.substring(1,8)\n",
    "console.log(a_substring) // Output would be oumini K\n",
    "\n",
    "// JS homework\n",
    "function characterCount(inputString) { \n",
    "    let totalLetters = 0;\n",
    "    let totalNumbers = 0;\n",
    "    let totalSpaces = 0; // sets all variables to 0\n",
    "\n",
    "    for (let char of inputString) {\n",
    "        if (char.match(/[a-zA-Z]/)) {\n",
    "            totalLetters += 1;  // If the character is a letter, increase the letter count\n",
    "        } else if (char.match(/[0-9]/)) {\n",
    "            totalNumbers += 1;  // If character is a number, increase the number count\n",
    "        } else if (char == ' ') {\n",
    "            totalSpaces += 1;   // If the character is a space, increase the space count\n",
    "        }\n",
    "    }\n",
    "\n",
    "    return [totalLetters, totalNumbers, totalSpaces]; // returns the counts in an array\n",
    "}\n",
    "\n",
    "// Get user input\n",
    "const userInput = prompt(\"Enter string:\"); // gets input\n",
    "const [letters, numbers, spaces] = characterCount(userInput); // Call the function\n",
    "\n",
    "// Print the results\n",
    "console.log(`Total letters: ${letters}`);   // Prints number of letters\n",
    "console.log(`Total numbers: ${numbers}`);    // Prints number of numbers\n",
    "console.log(`Total spaces: ${spaces}`);      // Prints number of spaces"
   ]
  }
 ],
 "metadata": {
  "language_info": {
   "name": "python"
  }
 },
 "nbformat": 4,
 "nbformat_minor": 2
}
