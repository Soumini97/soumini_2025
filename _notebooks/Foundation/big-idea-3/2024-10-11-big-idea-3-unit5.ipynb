{
 "cells": [
  {
   "cell_type": "markdown",
   "metadata": {},
   "source": [
    "--- \n",
    "layout: post\n",
    "title: Big Idea 3 Unit 5\n",
    "description: Big Idea 3 Unit 5\n",
    "permalink: /big-idea-3-unit5/\n",
    "---"
   ]
  },
  {
   "cell_type": "markdown",
   "metadata": {
    "vscode": {
     "languageId": "plaintext"
    }
   },
   "source": [
    "# Summary \n",
    "My group taught this lesson as well: \n",
    "\n",
    "## Relational Operators\n",
    "These are used to test the relationship between two variables. They are used for comparisons and result in a Boolean value of True or False.\n",
    "\n",
    "- x == y (equals)\n",
    "- x != y (not equal to)\n",
    "- x > y (greater than)\n",
    "- x < y (less than)\n",
    "- x >= y (greater than or equal to)\n",
    "- x <= y (less than or equal to)\n",
    "\n",
    "## Logical Operators\n",
    "These are used to test multiple conditions to produce a single Boolean value.\n",
    "\n",
    "AND(&& or “and”): Returns true if both conditions are true. If either condition is false or if both are false, it returns false.\n",
    "OR(\t \tor “or”): Returns true if at least one condition is true. If both conditions are false, it returns false\n",
    "NOT(! or “not”): If the condition is false, then it returns true. If the condition is true, then it returns false.\n",
    "Click here to find our lesson: [Link to 3.5](https://nighthawkcoders.github.io/portfolio_2025/csp/big-idea/p5/3-5-1)"
   ]
  }
 ],
 "metadata": {
  "language_info": {
   "name": "python"
  }
 },
 "nbformat": 4,
 "nbformat_minor": 2
}
