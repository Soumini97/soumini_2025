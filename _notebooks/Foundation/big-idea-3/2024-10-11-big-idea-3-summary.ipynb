{
 "cells": [
  {
   "cell_type": "markdown",
   "metadata": {},
   "source": [
    "--- \n",
    "layout: post\n",
    "title: Big Idea 3 summary\n",
    "description: Summary of Big Idea 3 units\n",
    "permalink: /big-idea-3-summary/\n",
    "---"
   ]
  },
  {
   "cell_type": "markdown",
   "metadata": {},
   "source": [
    "# Summary\n",
    "\n",
    "Hello! In order to retain all my information, I'm going to review what I have learned and practice writing code that utilizes the skills I have learnt in the past week. I also have another blog post under 3.6 homework that documents my coding homework for 3.6. Due to the cumulative structure of the lessons, my 3.6 homework also has a lot of the work and skills I learned in other units.  \n",
    "\n",
    "Click here to locate the full lesson information. \n",
    "\n",
    "<html>\n",
    "<div style=\"display: flex; flex-wrap: wrap; justify-content: center; gap: 20px;\">\n",
    "    <a href=\"{{site.baseurl}}/big-idea-3-unit1/\"\n",
    "       style=\"background-color: rgb(135, 206, 250); color: white; padding: 20px 40px; text-align: center; text-decoration: none; border-radius: 5px; font-size: 16px;\">\n",
    "        Unit 1\n",
    "    </a>\n",
    "    <a href=\"{{site.baseurl}}/big-idea-3-unit2/\"\n",
    "       style=\"background-color: rgb(135, 206, 250); color: white; padding: 20px 40px; text-align: center; text-decoration: none; border-radius: 5px; font-size: 16px;\">\n",
    "        Unit 2\n",
    "    </a>\n",
    "    <a href=\"{{site.baseurl}}/big-idea-3-unit3/\"\n",
    "       style=\"background-color: rgb(135, 206, 250); color: white; padding: 20px 40px; text-align: center; text-decoration: none; border-radius: 5px; font-size: 16px;\">\n",
    "        Unit 3\n",
    "    </a>\n",
    "    <a href=\"{{site.baseurl}}/big-idea-3-unit4/\"\n",
    "       style=\"background-color: rgb(135, 206, 250); color: white; padding: 20px 40px; text-align: center; text-decoration: none; border-radius: 5px; font-size: 16px;\">\n",
    "        Unit 4\n",
    "    </a>\n",
    "    <a href=\"{{site.baseurl}}/big-idea-3-unit5/\"\n",
    "       style=\"background-color: rgb(135, 206, 250); color: white; padding: 20px 40px; text-align: center; text-decoration: none; border-radius: 5px; font-size: 16px;\">\n",
    "        Unit 5\n",
    "    </a>\n",
    "    <a href=\"{{site.baseurl}}/big-idea-3-unit6/\"\n",
    "       style=\"background-color: rgb(135, 206, 250); color: white; padding: 20px 40px; text-align: center; text-decoration: none; border-radius: 5px; font-size: 16px;\">\n",
    "        Unit 6\n",
    "    </a>\n",
    "    <a href=\"{{site.baseurl}}/big-idea-3-unit7\"\n",
    "       style=\"background-color: rgb(135, 206, 250); color: white; padding: 20px 40px; text-align: center; text-decoration: none; border-radius: 5px; font-size: 16px;\">\n",
    "        Unit 7\n",
    "    </a>\n",
    "    <a href=\"{{site.baseurl}}/big-idea-3-unit10/\"\n",
    "       style=\"background-color: rgb(135, 206, 250); color: white; padding: 20px 40px; text-align: center; text-decoration: none; border-radius: 5px; font-size: 16px;\">\n",
    "        Unit 10\n",
    "    </a>\n"
   ]
  }
 ],
 "metadata": {
  "language_info": {
   "name": "python"
  }
 },
 "nbformat": 4,
 "nbformat_minor": 2
}
