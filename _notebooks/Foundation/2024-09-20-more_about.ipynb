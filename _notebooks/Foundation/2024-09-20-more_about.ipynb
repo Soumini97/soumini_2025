{
 "cells": [
  {
   "cell_type": "markdown",
   "metadata": {},
   "source": [
    "---\n",
    "layout: post\n",
    "title: More About\n",
    "description: Favorite Foods\n",
    "permalink: /Moreabout/\n",
    "---\n",
    "\n",
    "# Favorite Foods\n",
    "I have none. Deal with it. 😊"
   ]
  }
 ],
 "metadata": {
  "language_info": {
   "name": "python"
  }
 },
 "nbformat": 4,
 "nbformat_minor": 2
}
