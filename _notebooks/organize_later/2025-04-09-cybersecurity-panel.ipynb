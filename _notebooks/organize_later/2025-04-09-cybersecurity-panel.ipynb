{
 "cells": [
  {
   "cell_type": "markdown",
   "metadata": {},
   "source": [
    "---\n",
    "layout: page\n",
    "title: Cybersecurity Panel\n",
    "permalink: /cyber-security-panel/\n",
    "---"
   ]
  },
  {
   "cell_type": "markdown",
   "metadata": {},
   "source": [
    "# Notes\n",
    "\n",
    "**Cybersecurity**: Protection of systems, networks, and data from breaches.<br>\n",
    "\n",
    "**What is a real-world cybersecurity case that you've worked on that had a significant impact?**\n",
    "Mr. Tomasz: Tracks active cyber threats and finds them using mistakes they make.<br>\n",
    "Ms. Mercer: A senior official at her place of work had access to information despite having a leave of absense. Ms. Mercer shut down the access and later, it was found that the official was stealing and selling data to other companies that were direct competitors. \n",
    "\n",
    "**What is a zero-day?**\n",
    "A zero-day is a vulnerability in software or hardware that is unkown to the vendor or security community and can potentially be exploited, so there is no fix available to it yet. \n",
    "\n",
    "**What inspired you to pursue cypersecurity?**\n",
    "Mr. Tomasz: \"I hate computers, I've always hated computers, I still hate computers.\" He initially wanted to work in international relations, but was placed in cybersecurity and was curious, so he pursued it. \n",
    "\n",
    "**What can a CS student do to help them pursue a career in cybersecurity?**\n",
    "Get your background in IT. The IT Foundation is most helpful for cybersecurity. Soft skills: have people skills, be likeable, be nice, be organized, be a good leader. When you go into the office, people should know who you are and they should like you. Most things in life come with the soft skills and without these, having technical ability will not be much help. \n",
    "\n",
    "**The future of cybersecurity:**\n",
    "- A trend seen for the next 5-6 years is that there will be more cybersecurity in healthcare like protecting patient data. \n",
    "- Government jobs: China and Russia are highly skilled and North Korea and Iran are improving, it's important that we have skilled people to protect our data. \n",
    "\n",
    "Importance of Networking: Surrounding yourself with people that are better than you will teach you a lot about whatever you try to learn. Having connections is super important. Being the best in the world requires passion and effort. "
   ]
  }
 ],
 "metadata": {
  "kernelspec": {
   "display_name": "venv",
   "language": "python",
   "name": "python3"
  },
  "language_info": {
   "codemirror_mode": {
    "name": "ipython",
    "version": 3
   },
   "file_extension": ".py",
   "mimetype": "text/x-python",
   "name": "python",
   "nbconvert_exporter": "python",
   "pygments_lexer": "ipython3",
   "version": "3.12.3"
  }
 },
 "nbformat": 4,
 "nbformat_minor": 2
}
