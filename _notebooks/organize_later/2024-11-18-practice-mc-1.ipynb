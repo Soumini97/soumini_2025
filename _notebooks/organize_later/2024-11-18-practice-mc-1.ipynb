{
 "cells": [
  {
   "cell_type": "markdown",
   "metadata": {},
   "source": [
    "--- \n",
    "layout: post\n",
    "title: 2018 Practice MCQ\n",
    "description: College Board MCQ\n",
    "permalink: /college-board-multiple-choice-reflection/\n",
    "---"
   ]
  },
  {
   "cell_type": "markdown",
   "metadata": {
    "vscode": {
     "languageId": "plaintext"
    }
   },
   "source": [
    "# Summary \n",
    "1. I learned how to read code and understand what it does. I also learned about different computer science terms.\n",
    "2. I am weak on vocabulary questions that ask about a certain type of CSP topics and then ask about benefits and drawbacks. \n",
    "3. I mostly made mistakes on simple things like vocabulary mistakes. I learned about cloud-computing software, incremental build, and formal definitions of many topics. Below, I've attached mistakes that I've been able to learn from. \n",
    "\n",
    "\n",
    "# Needs Improvement: \n",
    "- Identifying and correcting errors\n",
    "- Data compression\n",
    "- Developing algorithms\n",
    "- Developing procedures\n",
    "- Simulations and the Internet\n",
    "- Crowdsourcing\n",
    "\n",
    "# Mistakes that I learned from \n",
    "<img src=\"{{site.baseurl}}/images/Q1.png\" alt=\"Q1\">\n",
    "<br>\n",
    "<img src=\"{{site.baseurl}}/images/Q2.png\" alt=\"Q2\">\n",
    "<br>\n",
    "<img src=\"{{site.baseurl}}/images/Q3.png\" alt=\"Q3\">\n",
    "<br>\n",
    "<img src=\"{{site.baseurl}}/images/Q4.png\" alt=\"Q4\">\n",
    "<br>\n",
    "<img src=\"{{site.baseurl}}/images/Q5.png\" alt=\"Q5\">\n",
    "<br>\n",
    "<img src=\"{{site.baseurl}}/images/Q6.png\" alt=\"Q6\">\n",
    "<br>\n",
    "<img src=\"{{site.baseurl}}/images/Q7.png\" alt=\"Q7\">\n",
    "\n",
    "<script src=\"https://utteranc.es/client.js\"\n",
    "        repo=\"nighthawkcoders/portfolio_2025\"\n",
    "        issue-term=\"title\"\n",
    "        label=\"blogpost-comment\"\n",
    "        theme=\"github-light\"\n",
    "        crossorigin=\"anonymous\"\n",
    "        async>\n",
    "</script>"
   ]
  }
 ],
 "metadata": {
  "language_info": {
   "name": "python"
  }
 },
 "nbformat": 4,
 "nbformat_minor": 2
}
